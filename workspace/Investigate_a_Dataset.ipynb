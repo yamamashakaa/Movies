{
 "cells": [
  {
   "cell_type": "markdown",
   "metadata": {
    "tags": []
   },
   "source": [
    "\n",
    "# Project: Investigate a Dataset - [TMDb movie Dataset]\n",
    "\n",
    "## Table of Contents\n",
    "<ul>\n",
    "<li><a href=\"#intro\">Introduction</a></li>\n",
    "<li><a href=\"#wrangling\">Data Wrangling</a></li>\n",
    "<li><a href=\"#eda\">Exploratory Data Analysis</a></li>\n",
    "<li><a href=\"#conclusions\">Conclusions</a></li>\n",
    "</ul>"
   ]
  },
  {
   "cell_type": "markdown",
   "metadata": {},
   "source": [
    "<a id='intro'></a>\n",
    "## Introduction\n",
    "\n",
    "### Dataset Description \n",
    "\n",
    "This data set contains information about 10866 movies collected from The Movie Database (IMDb).\n",
    "The table  has 21 columns which are :\n",
    "\n",
    "  0) id                       identifier of the movie\n",
    " 1) imdb_id              identifier of the movie on the website  object \n",
    " 2) popularity           A mmeasurment of movie popularity  float64\n",
    " 3)   budget                Amount of money allocated for the movie  int64  \n",
    " 4)   revenue               Profit from this movie  int64  \n",
    " 5)   original_title        title of the movie  object \n",
    " 6)  cast                 info about the cast  object \n",
    " 7)   homepage              homepafe url  object \n",
    " 8)   director              info about the director  object \n",
    " 9)   tagline               slogan about the movie   object \n",
    " 10)  keywords              words that most describe the movie   object \n",
    " 11)  overview              short description about the move  object \n",
    " 12)  runtime               Number of mins or hours the movie was run  int64  \n",
    " 13)  genres               Type of the movie in term of its theme object \n",
    " 14)  production_companies  infothe company that produce the movie   object \n",
    " 15)  release_date          When the movie was out  object \n",
    " 16)  vote_count            Number of voters for the movie  int64  \n",
    " 17)  vote_average         Score average for the movie  float64\n",
    " 18)  release_year         Year when movie was out  object  int64  \n",
    " 19)  budget_adj            Amount of money allocated for the movie  in terms of 2010 dollars, accounting for inflation over time  int64    float64\n",
    " 20)  revenue_adj           Profit from this movie   in terms of 2010 dollars, accounting for inflation over time int64 float64\n",
    "\n",
    "\n",
    "\n",
    "\n",
    "### Question(s) for Analysis\n",
    "1) Does the movie budget affect its revenue and popularity ?\n",
    "2) What Theme (Genere) of movies get the most revenue?"
   ]
  },
  {
   "cell_type": "code",
   "execution_count": 1,
   "metadata": {
    "tags": []
   },
   "outputs": [],
   "source": [
    "# set up import packages \n",
    "import pandas as pd\n",
    "import numpy as np\n",
    "import matplotlib as plt"
   ]
  },
  {
   "cell_type": "markdown",
   "metadata": {},
   "source": [
    "<a id='wrangling'></a>\n",
    "## Data Wrangling\n",
    "Clean data and make it ready for analysis\n",
    "### General Properties\n"
   ]
  },
  {
   "cell_type": "code",
   "execution_count": 2,
   "metadata": {
    "tags": []
   },
   "outputs": [],
   "source": [
    "# Load your data and print out a few lines.\n",
    "#   Perform operations to inspect data types and look for instances of missing\n",
    "\n",
    "\n",
    "movies_data=pd.read_csv(\"Database_TMDb_movie_data//tmdb-movies.csv\")\n",
    "\n"
   ]
  },
  {
   "cell_type": "code",
   "execution_count": 3,
   "metadata": {},
   "outputs": [
    {
     "data": {
      "text/plain": [
       "(10866, 21)"
      ]
     },
     "execution_count": 3,
     "metadata": {},
     "output_type": "execute_result"
    }
   ],
   "source": [
    "#size of your dataframe\n",
    "movies_data.shape"
   ]
  },
  {
   "cell_type": "code",
   "execution_count": 4,
   "metadata": {
    "scrolled": true
   },
   "outputs": [
    {
     "name": "stdout",
     "output_type": "stream",
     "text": [
      "<class 'pandas.core.frame.DataFrame'>\n",
      "RangeIndex: 10866 entries, 0 to 10865\n",
      "Data columns (total 21 columns):\n",
      " #   Column                Non-Null Count  Dtype  \n",
      "---  ------                --------------  -----  \n",
      " 0   id                    10866 non-null  int64  \n",
      " 1   imdb_id               10856 non-null  object \n",
      " 2   popularity            10866 non-null  float64\n",
      " 3   budget                10866 non-null  int64  \n",
      " 4   revenue               10866 non-null  int64  \n",
      " 5   original_title        10866 non-null  object \n",
      " 6   cast                  10790 non-null  object \n",
      " 7   homepage              2936 non-null   object \n",
      " 8   director              10822 non-null  object \n",
      " 9   tagline               8042 non-null   object \n",
      " 10  keywords              9373 non-null   object \n",
      " 11  overview              10862 non-null  object \n",
      " 12  runtime               10866 non-null  int64  \n",
      " 13  genres                10843 non-null  object \n",
      " 14  production_companies  9836 non-null   object \n",
      " 15  release_date          10866 non-null  object \n",
      " 16  vote_count            10866 non-null  int64  \n",
      " 17  vote_average          10866 non-null  float64\n",
      " 18  release_year          10866 non-null  int64  \n",
      " 19  budget_adj            10866 non-null  float64\n",
      " 20  revenue_adj           10866 non-null  float64\n",
      "dtypes: float64(4), int64(6), object(11)\n",
      "memory usage: 1.7+ MB\n"
     ]
    }
   ],
   "source": [
    "#info about cols\n",
    "\n",
    "movies_data.info()"
   ]
  },
  {
   "cell_type": "code",
   "execution_count": 5,
   "metadata": {
    "scrolled": true
   },
   "outputs": [
    {
     "data": {
      "text/html": [
       "<div>\n",
       "<style scoped>\n",
       "    .dataframe tbody tr th:only-of-type {\n",
       "        vertical-align: middle;\n",
       "    }\n",
       "\n",
       "    .dataframe tbody tr th {\n",
       "        vertical-align: top;\n",
       "    }\n",
       "\n",
       "    .dataframe thead th {\n",
       "        text-align: right;\n",
       "    }\n",
       "</style>\n",
       "<table border=\"1\" class=\"dataframe\">\n",
       "  <thead>\n",
       "    <tr style=\"text-align: right;\">\n",
       "      <th></th>\n",
       "      <th>id</th>\n",
       "      <th>imdb_id</th>\n",
       "      <th>popularity</th>\n",
       "      <th>budget</th>\n",
       "      <th>revenue</th>\n",
       "      <th>original_title</th>\n",
       "      <th>cast</th>\n",
       "      <th>homepage</th>\n",
       "      <th>director</th>\n",
       "      <th>tagline</th>\n",
       "      <th>...</th>\n",
       "      <th>overview</th>\n",
       "      <th>runtime</th>\n",
       "      <th>genres</th>\n",
       "      <th>production_companies</th>\n",
       "      <th>release_date</th>\n",
       "      <th>vote_count</th>\n",
       "      <th>vote_average</th>\n",
       "      <th>release_year</th>\n",
       "      <th>budget_adj</th>\n",
       "      <th>revenue_adj</th>\n",
       "    </tr>\n",
       "  </thead>\n",
       "  <tbody>\n",
       "    <tr>\n",
       "      <th>0</th>\n",
       "      <td>135397</td>\n",
       "      <td>tt0369610</td>\n",
       "      <td>32.985763</td>\n",
       "      <td>150000000</td>\n",
       "      <td>1513528810</td>\n",
       "      <td>Jurassic World</td>\n",
       "      <td>Chris Pratt|Bryce Dallas Howard|Irrfan Khan|Vi...</td>\n",
       "      <td>http://www.jurassicworld.com/</td>\n",
       "      <td>Colin Trevorrow</td>\n",
       "      <td>The park is open.</td>\n",
       "      <td>...</td>\n",
       "      <td>Twenty-two years after the events of Jurassic ...</td>\n",
       "      <td>124</td>\n",
       "      <td>Action|Adventure|Science Fiction|Thriller</td>\n",
       "      <td>Universal Studios|Amblin Entertainment|Legenda...</td>\n",
       "      <td>6/9/15</td>\n",
       "      <td>5562</td>\n",
       "      <td>6.5</td>\n",
       "      <td>2015</td>\n",
       "      <td>1.379999e+08</td>\n",
       "      <td>1.392446e+09</td>\n",
       "    </tr>\n",
       "    <tr>\n",
       "      <th>1</th>\n",
       "      <td>76341</td>\n",
       "      <td>tt1392190</td>\n",
       "      <td>28.419936</td>\n",
       "      <td>150000000</td>\n",
       "      <td>378436354</td>\n",
       "      <td>Mad Max: Fury Road</td>\n",
       "      <td>Tom Hardy|Charlize Theron|Hugh Keays-Byrne|Nic...</td>\n",
       "      <td>http://www.madmaxmovie.com/</td>\n",
       "      <td>George Miller</td>\n",
       "      <td>What a Lovely Day.</td>\n",
       "      <td>...</td>\n",
       "      <td>An apocalyptic story set in the furthest reach...</td>\n",
       "      <td>120</td>\n",
       "      <td>Action|Adventure|Science Fiction|Thriller</td>\n",
       "      <td>Village Roadshow Pictures|Kennedy Miller Produ...</td>\n",
       "      <td>5/13/15</td>\n",
       "      <td>6185</td>\n",
       "      <td>7.1</td>\n",
       "      <td>2015</td>\n",
       "      <td>1.379999e+08</td>\n",
       "      <td>3.481613e+08</td>\n",
       "    </tr>\n",
       "    <tr>\n",
       "      <th>2</th>\n",
       "      <td>262500</td>\n",
       "      <td>tt2908446</td>\n",
       "      <td>13.112507</td>\n",
       "      <td>110000000</td>\n",
       "      <td>295238201</td>\n",
       "      <td>Insurgent</td>\n",
       "      <td>Shailene Woodley|Theo James|Kate Winslet|Ansel...</td>\n",
       "      <td>http://www.thedivergentseries.movie/#insurgent</td>\n",
       "      <td>Robert Schwentke</td>\n",
       "      <td>One Choice Can Destroy You</td>\n",
       "      <td>...</td>\n",
       "      <td>Beatrice Prior must confront her inner demons ...</td>\n",
       "      <td>119</td>\n",
       "      <td>Adventure|Science Fiction|Thriller</td>\n",
       "      <td>Summit Entertainment|Mandeville Films|Red Wago...</td>\n",
       "      <td>3/18/15</td>\n",
       "      <td>2480</td>\n",
       "      <td>6.3</td>\n",
       "      <td>2015</td>\n",
       "      <td>1.012000e+08</td>\n",
       "      <td>2.716190e+08</td>\n",
       "    </tr>\n",
       "    <tr>\n",
       "      <th>3</th>\n",
       "      <td>140607</td>\n",
       "      <td>tt2488496</td>\n",
       "      <td>11.173104</td>\n",
       "      <td>200000000</td>\n",
       "      <td>2068178225</td>\n",
       "      <td>Star Wars: The Force Awakens</td>\n",
       "      <td>Harrison Ford|Mark Hamill|Carrie Fisher|Adam D...</td>\n",
       "      <td>http://www.starwars.com/films/star-wars-episod...</td>\n",
       "      <td>J.J. Abrams</td>\n",
       "      <td>Every generation has a story.</td>\n",
       "      <td>...</td>\n",
       "      <td>Thirty years after defeating the Galactic Empi...</td>\n",
       "      <td>136</td>\n",
       "      <td>Action|Adventure|Science Fiction|Fantasy</td>\n",
       "      <td>Lucasfilm|Truenorth Productions|Bad Robot</td>\n",
       "      <td>12/15/15</td>\n",
       "      <td>5292</td>\n",
       "      <td>7.5</td>\n",
       "      <td>2015</td>\n",
       "      <td>1.839999e+08</td>\n",
       "      <td>1.902723e+09</td>\n",
       "    </tr>\n",
       "    <tr>\n",
       "      <th>4</th>\n",
       "      <td>168259</td>\n",
       "      <td>tt2820852</td>\n",
       "      <td>9.335014</td>\n",
       "      <td>190000000</td>\n",
       "      <td>1506249360</td>\n",
       "      <td>Furious 7</td>\n",
       "      <td>Vin Diesel|Paul Walker|Jason Statham|Michelle ...</td>\n",
       "      <td>http://www.furious7.com/</td>\n",
       "      <td>James Wan</td>\n",
       "      <td>Vengeance Hits Home</td>\n",
       "      <td>...</td>\n",
       "      <td>Deckard Shaw seeks revenge against Dominic Tor...</td>\n",
       "      <td>137</td>\n",
       "      <td>Action|Crime|Thriller</td>\n",
       "      <td>Universal Pictures|Original Film|Media Rights ...</td>\n",
       "      <td>4/1/15</td>\n",
       "      <td>2947</td>\n",
       "      <td>7.3</td>\n",
       "      <td>2015</td>\n",
       "      <td>1.747999e+08</td>\n",
       "      <td>1.385749e+09</td>\n",
       "    </tr>\n",
       "  </tbody>\n",
       "</table>\n",
       "<p>5 rows × 21 columns</p>\n",
       "</div>"
      ],
      "text/plain": [
       "       id    imdb_id  popularity     budget     revenue  \\\n",
       "0  135397  tt0369610   32.985763  150000000  1513528810   \n",
       "1   76341  tt1392190   28.419936  150000000   378436354   \n",
       "2  262500  tt2908446   13.112507  110000000   295238201   \n",
       "3  140607  tt2488496   11.173104  200000000  2068178225   \n",
       "4  168259  tt2820852    9.335014  190000000  1506249360   \n",
       "\n",
       "                 original_title  \\\n",
       "0                Jurassic World   \n",
       "1            Mad Max: Fury Road   \n",
       "2                     Insurgent   \n",
       "3  Star Wars: The Force Awakens   \n",
       "4                     Furious 7   \n",
       "\n",
       "                                                cast  \\\n",
       "0  Chris Pratt|Bryce Dallas Howard|Irrfan Khan|Vi...   \n",
       "1  Tom Hardy|Charlize Theron|Hugh Keays-Byrne|Nic...   \n",
       "2  Shailene Woodley|Theo James|Kate Winslet|Ansel...   \n",
       "3  Harrison Ford|Mark Hamill|Carrie Fisher|Adam D...   \n",
       "4  Vin Diesel|Paul Walker|Jason Statham|Michelle ...   \n",
       "\n",
       "                                            homepage          director  \\\n",
       "0                      http://www.jurassicworld.com/   Colin Trevorrow   \n",
       "1                        http://www.madmaxmovie.com/     George Miller   \n",
       "2     http://www.thedivergentseries.movie/#insurgent  Robert Schwentke   \n",
       "3  http://www.starwars.com/films/star-wars-episod...       J.J. Abrams   \n",
       "4                           http://www.furious7.com/         James Wan   \n",
       "\n",
       "                         tagline  ...  \\\n",
       "0              The park is open.  ...   \n",
       "1             What a Lovely Day.  ...   \n",
       "2     One Choice Can Destroy You  ...   \n",
       "3  Every generation has a story.  ...   \n",
       "4            Vengeance Hits Home  ...   \n",
       "\n",
       "                                            overview runtime  \\\n",
       "0  Twenty-two years after the events of Jurassic ...     124   \n",
       "1  An apocalyptic story set in the furthest reach...     120   \n",
       "2  Beatrice Prior must confront her inner demons ...     119   \n",
       "3  Thirty years after defeating the Galactic Empi...     136   \n",
       "4  Deckard Shaw seeks revenge against Dominic Tor...     137   \n",
       "\n",
       "                                      genres  \\\n",
       "0  Action|Adventure|Science Fiction|Thriller   \n",
       "1  Action|Adventure|Science Fiction|Thriller   \n",
       "2         Adventure|Science Fiction|Thriller   \n",
       "3   Action|Adventure|Science Fiction|Fantasy   \n",
       "4                      Action|Crime|Thriller   \n",
       "\n",
       "                                production_companies release_date vote_count  \\\n",
       "0  Universal Studios|Amblin Entertainment|Legenda...       6/9/15       5562   \n",
       "1  Village Roadshow Pictures|Kennedy Miller Produ...      5/13/15       6185   \n",
       "2  Summit Entertainment|Mandeville Films|Red Wago...      3/18/15       2480   \n",
       "3          Lucasfilm|Truenorth Productions|Bad Robot     12/15/15       5292   \n",
       "4  Universal Pictures|Original Film|Media Rights ...       4/1/15       2947   \n",
       "\n",
       "   vote_average  release_year    budget_adj   revenue_adj  \n",
       "0           6.5          2015  1.379999e+08  1.392446e+09  \n",
       "1           7.1          2015  1.379999e+08  3.481613e+08  \n",
       "2           6.3          2015  1.012000e+08  2.716190e+08  \n",
       "3           7.5          2015  1.839999e+08  1.902723e+09  \n",
       "4           7.3          2015  1.747999e+08  1.385749e+09  \n",
       "\n",
       "[5 rows x 21 columns]"
      ]
     },
     "execution_count": 5,
     "metadata": {},
     "output_type": "execute_result"
    }
   ],
   "source": [
    "#get some samples for investigation\n",
    "movies_data.head()"
   ]
  },
  {
   "cell_type": "code",
   "execution_count": 6,
   "metadata": {
    "scrolled": true
   },
   "outputs": [
    {
     "data": {
      "text/plain": [
       "id                         0\n",
       "imdb_id                   10\n",
       "popularity                 0\n",
       "budget                     0\n",
       "revenue                    0\n",
       "original_title             0\n",
       "cast                      76\n",
       "homepage                7930\n",
       "director                  44\n",
       "tagline                 2824\n",
       "keywords                1493\n",
       "overview                   4\n",
       "runtime                    0\n",
       "genres                    23\n",
       "production_companies    1030\n",
       "release_date               0\n",
       "vote_count                 0\n",
       "vote_average               0\n",
       "release_year               0\n",
       "budget_adj                 0\n",
       "revenue_adj                0\n",
       "dtype: int64"
      ]
     },
     "execution_count": 6,
     "metadata": {},
     "output_type": "execute_result"
    }
   ],
   "source": [
    "# check for missing data\n",
    "#numbers reprsent number of missing values in each col\n",
    "\n",
    "movies_data.isnull().sum()"
   ]
  },
  {
   "cell_type": "markdown",
   "metadata": {},
   "source": [
    "### Data Cleaning\n"
   ]
  },
  {
   "cell_type": "markdown",
   "metadata": {},
   "source": [
    "## Handling Misisng Data"
   ]
  },
  {
   "cell_type": "code",
   "execution_count": 7,
   "metadata": {
    "scrolled": true
   },
   "outputs": [],
   "source": [
    "# Fill missing data in imdb_id with label : 9999\n",
    "movies_data['imdb_id'].fillna('9999',inplace=True)"
   ]
  },
  {
   "cell_type": "code",
   "execution_count": 8,
   "metadata": {},
   "outputs": [],
   "source": [
    "# Fill missing data in cast with label : \"not available\"\n",
    "movies_data['cast'].fillna('not available',inplace=True)"
   ]
  },
  {
   "cell_type": "code",
   "execution_count": 9,
   "metadata": {},
   "outputs": [
    {
     "name": "stdout",
     "output_type": "stream",
     "text": [
      "0.7297993741947358\n"
     ]
    }
   ],
   "source": [
    "#check percentage of missing data in homepage column\n",
    "percentage_of_missing_data=movies_data['homepage'].isnull().sum()/len(movies_data)\n",
    "print(percentage_of_missing_data)\n",
    "#conclusion :  72% of homepage data is missing\n"
   ]
  },
  {
   "cell_type": "code",
   "execution_count": 10,
   "metadata": {},
   "outputs": [],
   "source": [
    "# Decision : Dropping the home page column\n",
    "temp= movies_data.drop('homepage', axis=1)"
   ]
  },
  {
   "cell_type": "code",
   "execution_count": 11,
   "metadata": {},
   "outputs": [],
   "source": [
    "movies_data=temp"
   ]
  },
  {
   "cell_type": "code",
   "execution_count": 12,
   "metadata": {},
   "outputs": [],
   "source": [
    "# Fill misisng data in director with 'unknown\"\n",
    "movies_data['director'].fillna('unknown',inplace=True)"
   ]
  },
  {
   "cell_type": "code",
   "execution_count": 13,
   "metadata": {},
   "outputs": [
    {
     "name": "stdout",
     "output_type": "stream",
     "text": [
      "0.25989324498435484\n"
     ]
    }
   ],
   "source": [
    "#check percentage of missing data in tagline column\n",
    "percentage_of_missing_data=movies_data['tagline'].isnull().sum()/len(movies_data)\n",
    "print(percentage_of_missing_data)\n",
    "#conclusion :  26% of homepage data is missing"
   ]
  },
  {
   "cell_type": "code",
   "execution_count": 14,
   "metadata": {},
   "outputs": [],
   "source": [
    "# Decision : Fill tagline with \"unavailable\" string\n",
    "movies_data['tagline'].fillna(\"unavailable\",inplace=True)"
   ]
  },
  {
   "cell_type": "code",
   "execution_count": 15,
   "metadata": {},
   "outputs": [],
   "source": [
    "#fill overview, genres, keywords, production_companies  with unavailable \n",
    "movies_data['overview'].fillna(\"unavailable\",inplace=True)\n",
    "movies_data['keywords'].fillna(\"unavailable\",inplace=True)\n",
    "movies_data['production_companies'].fillna(\"unavailable\",inplace=True)\n",
    "\n"
   ]
  },
  {
   "cell_type": "code",
   "execution_count": 16,
   "metadata": {},
   "outputs": [],
   "source": [
    "movies_data['genres'].fillna(\"unavailable\",inplace=True)"
   ]
  },
  {
   "cell_type": "code",
   "execution_count": 17,
   "metadata": {},
   "outputs": [
    {
     "data": {
      "text/plain": [
       "id                      0\n",
       "imdb_id                 0\n",
       "popularity              0\n",
       "budget                  0\n",
       "revenue                 0\n",
       "original_title          0\n",
       "cast                    0\n",
       "director                0\n",
       "tagline                 0\n",
       "keywords                0\n",
       "overview                0\n",
       "runtime                 0\n",
       "genres                  0\n",
       "production_companies    0\n",
       "release_date            0\n",
       "vote_count              0\n",
       "vote_average            0\n",
       "release_year            0\n",
       "budget_adj              0\n",
       "revenue_adj             0\n",
       "dtype: int64"
      ]
     },
     "execution_count": 17,
     "metadata": {},
     "output_type": "execute_result"
    }
   ],
   "source": [
    "#make sure that all missing data were handled\n",
    "movies_data.isnull().sum()"
   ]
  },
  {
   "cell_type": "markdown",
   "metadata": {},
   "source": [
    "#### All missing data were handled as mentined in each cell"
   ]
  },
  {
   "cell_type": "code",
   "execution_count": 18,
   "metadata": {
    "scrolled": true
   },
   "outputs": [
    {
     "name": "stdout",
     "output_type": "stream",
     "text": [
      "0        tt0369610\n",
      "1        tt1392190\n",
      "2        tt2908446\n",
      "3        tt2488496\n",
      "4        tt2820852\n",
      "           ...    \n",
      "10861    tt0060371\n",
      "10862    tt0060472\n",
      "10863    tt0060161\n",
      "10864    tt0061177\n",
      "10865    tt0060666\n",
      "Name: imdb_id, Length: 10866, dtype: object\n"
     ]
    },
    {
     "data": {
      "text/plain": [
       "0        135397\n",
       "1         76341\n",
       "2        262500\n",
       "3        140607\n",
       "4        168259\n",
       "          ...  \n",
       "10861        21\n",
       "10862     20379\n",
       "10863     39768\n",
       "10864     21449\n",
       "10865     22293\n",
       "Name: id, Length: 10866, dtype: int64"
      ]
     },
     "execution_count": 18,
     "metadata": {},
     "output_type": "execute_result"
    }
   ],
   "source": [
    "\n",
    "#check if imdb_id col is the same as id\n",
    "print(movies_data['imdb_id'])\n",
    "movies_data['id']"
   ]
  },
  {
   "cell_type": "markdown",
   "metadata": {},
   "source": [
    "#### imdb_id and id column are not the same col. I keep both"
   ]
  },
  {
   "cell_type": "code",
   "execution_count": 19,
   "metadata": {},
   "outputs": [
    {
     "data": {
      "text/plain": [
       "True"
      ]
     },
     "execution_count": 19,
     "metadata": {},
     "output_type": "execute_result"
    }
   ],
   "source": [
    "# check for duplicates\n",
    "movies_data.duplicated().any()"
   ]
  },
  {
   "cell_type": "code",
   "execution_count": 20,
   "metadata": {},
   "outputs": [],
   "source": [
    "# remove all duplocates\n",
    "movies_data.drop_duplicates(inplace=True)"
   ]
  },
  {
   "cell_type": "code",
   "execution_count": 21,
   "metadata": {},
   "outputs": [
    {
     "data": {
      "text/plain": [
       "False"
      ]
     },
     "execution_count": 21,
     "metadata": {},
     "output_type": "execute_result"
    }
   ],
   "source": [
    "# confirmed that there is no duplicate\n",
    "movies_data.duplicated().any()"
   ]
  },
  {
   "cell_type": "code",
   "execution_count": 22,
   "metadata": {},
   "outputs": [
    {
     "name": "stdout",
     "output_type": "stream",
     "text": [
      "['id', 'budget', 'revenue', 'runtime', 'vote_count', 'release_year']\n"
     ]
    }
   ],
   "source": [
    "#check columns data types\n",
    "int_cols=movies_data.select_dtypes(include=['int64']).columns.tolist()\n",
    "print(int_cols)"
   ]
  },
  {
   "cell_type": "code",
   "execution_count": 23,
   "metadata": {},
   "outputs": [
    {
     "name": "stdout",
     "output_type": "stream",
     "text": [
      "['popularity', 'vote_average', 'budget_adj', 'revenue_adj']\n"
     ]
    }
   ],
   "source": [
    "float_cols=movies_data.select_dtypes(include=['float64']).columns.tolist()\n",
    "print(float_cols)"
   ]
  },
  {
   "cell_type": "code",
   "execution_count": 24,
   "metadata": {
    "scrolled": true
   },
   "outputs": [
    {
     "name": "stdout",
     "output_type": "stream",
     "text": [
      "['imdb_id', 'original_title', 'cast', 'director', 'tagline', 'keywords', 'overview', 'genres', 'production_companies', 'release_date']\n"
     ]
    }
   ],
   "source": [
    "string_cols=movies_data.select_dtypes(include=['object']).columns.tolist()\n",
    "print(string_cols)"
   ]
  },
  {
   "cell_type": "markdown",
   "metadata": {},
   "source": [
    "#### After checking data types, I think the columns already have suitable data types. I just want to change release data to dateTime "
   ]
  },
  {
   "cell_type": "code",
   "execution_count": 25,
   "metadata": {},
   "outputs": [],
   "source": [
    "movies_data['release_date']= pd.to_datetime(movies_data['release_date'])"
   ]
  },
  {
   "cell_type": "code",
   "execution_count": 26,
   "metadata": {},
   "outputs": [
    {
     "name": "stdout",
     "output_type": "stream",
     "text": [
      "<class 'pandas.core.series.Series'>\n",
      "Int64Index: 10865 entries, 0 to 10865\n",
      "Series name: release_date\n",
      "Non-Null Count  Dtype         \n",
      "--------------  -----         \n",
      "10865 non-null  datetime64[ns]\n",
      "dtypes: datetime64[ns](1)\n",
      "memory usage: 169.8 KB\n"
     ]
    }
   ],
   "source": [
    "movies_data['release_date'].info()"
   ]
  },
  {
   "cell_type": "markdown",
   "metadata": {},
   "source": [
    "<a id='eda'></a>\n",
    "## Exploratory Data Analysis\n",
    "\n",
    "\n",
    "### Research Question 1 : Does the movie budget affect its revenue and popularity ?"
   ]
  },
  {
   "cell_type": "markdown",
   "metadata": {},
   "source": [
    "#### Save the numeric variables on a sub dataframe to calculate correlation"
   ]
  },
  {
   "cell_type": "code",
   "execution_count": 27,
   "metadata": {
    "scrolled": false
   },
   "outputs": [
    {
     "data": {
      "text/html": [
       "<div>\n",
       "<style scoped>\n",
       "    .dataframe tbody tr th:only-of-type {\n",
       "        vertical-align: middle;\n",
       "    }\n",
       "\n",
       "    .dataframe tbody tr th {\n",
       "        vertical-align: top;\n",
       "    }\n",
       "\n",
       "    .dataframe thead th {\n",
       "        text-align: right;\n",
       "    }\n",
       "</style>\n",
       "<table border=\"1\" class=\"dataframe\">\n",
       "  <thead>\n",
       "    <tr style=\"text-align: right;\">\n",
       "      <th></th>\n",
       "      <th>popularity</th>\n",
       "      <th>budget</th>\n",
       "      <th>revenue</th>\n",
       "      <th>runtime</th>\n",
       "      <th>release_date</th>\n",
       "      <th>vote_count</th>\n",
       "      <th>vote_average</th>\n",
       "      <th>release_year</th>\n",
       "      <th>budget_adj</th>\n",
       "      <th>revenue_adj</th>\n",
       "    </tr>\n",
       "  </thead>\n",
       "  <tbody>\n",
       "    <tr>\n",
       "      <th>0</th>\n",
       "      <td>32.985763</td>\n",
       "      <td>150000000</td>\n",
       "      <td>1513528810</td>\n",
       "      <td>124</td>\n",
       "      <td>2015-06-09</td>\n",
       "      <td>5562</td>\n",
       "      <td>6.5</td>\n",
       "      <td>2015</td>\n",
       "      <td>1.379999e+08</td>\n",
       "      <td>1.392446e+09</td>\n",
       "    </tr>\n",
       "    <tr>\n",
       "      <th>1</th>\n",
       "      <td>28.419936</td>\n",
       "      <td>150000000</td>\n",
       "      <td>378436354</td>\n",
       "      <td>120</td>\n",
       "      <td>2015-05-13</td>\n",
       "      <td>6185</td>\n",
       "      <td>7.1</td>\n",
       "      <td>2015</td>\n",
       "      <td>1.379999e+08</td>\n",
       "      <td>3.481613e+08</td>\n",
       "    </tr>\n",
       "    <tr>\n",
       "      <th>2</th>\n",
       "      <td>13.112507</td>\n",
       "      <td>110000000</td>\n",
       "      <td>295238201</td>\n",
       "      <td>119</td>\n",
       "      <td>2015-03-18</td>\n",
       "      <td>2480</td>\n",
       "      <td>6.3</td>\n",
       "      <td>2015</td>\n",
       "      <td>1.012000e+08</td>\n",
       "      <td>2.716190e+08</td>\n",
       "    </tr>\n",
       "    <tr>\n",
       "      <th>3</th>\n",
       "      <td>11.173104</td>\n",
       "      <td>200000000</td>\n",
       "      <td>2068178225</td>\n",
       "      <td>136</td>\n",
       "      <td>2015-12-15</td>\n",
       "      <td>5292</td>\n",
       "      <td>7.5</td>\n",
       "      <td>2015</td>\n",
       "      <td>1.839999e+08</td>\n",
       "      <td>1.902723e+09</td>\n",
       "    </tr>\n",
       "    <tr>\n",
       "      <th>4</th>\n",
       "      <td>9.335014</td>\n",
       "      <td>190000000</td>\n",
       "      <td>1506249360</td>\n",
       "      <td>137</td>\n",
       "      <td>2015-04-01</td>\n",
       "      <td>2947</td>\n",
       "      <td>7.3</td>\n",
       "      <td>2015</td>\n",
       "      <td>1.747999e+08</td>\n",
       "      <td>1.385749e+09</td>\n",
       "    </tr>\n",
       "    <tr>\n",
       "      <th>...</th>\n",
       "      <td>...</td>\n",
       "      <td>...</td>\n",
       "      <td>...</td>\n",
       "      <td>...</td>\n",
       "      <td>...</td>\n",
       "      <td>...</td>\n",
       "      <td>...</td>\n",
       "      <td>...</td>\n",
       "      <td>...</td>\n",
       "      <td>...</td>\n",
       "    </tr>\n",
       "    <tr>\n",
       "      <th>10861</th>\n",
       "      <td>0.080598</td>\n",
       "      <td>0</td>\n",
       "      <td>0</td>\n",
       "      <td>95</td>\n",
       "      <td>2066-06-15</td>\n",
       "      <td>11</td>\n",
       "      <td>7.4</td>\n",
       "      <td>1966</td>\n",
       "      <td>0.000000e+00</td>\n",
       "      <td>0.000000e+00</td>\n",
       "    </tr>\n",
       "    <tr>\n",
       "      <th>10862</th>\n",
       "      <td>0.065543</td>\n",
       "      <td>0</td>\n",
       "      <td>0</td>\n",
       "      <td>176</td>\n",
       "      <td>2066-12-21</td>\n",
       "      <td>20</td>\n",
       "      <td>5.7</td>\n",
       "      <td>1966</td>\n",
       "      <td>0.000000e+00</td>\n",
       "      <td>0.000000e+00</td>\n",
       "    </tr>\n",
       "    <tr>\n",
       "      <th>10863</th>\n",
       "      <td>0.065141</td>\n",
       "      <td>0</td>\n",
       "      <td>0</td>\n",
       "      <td>94</td>\n",
       "      <td>2066-01-01</td>\n",
       "      <td>11</td>\n",
       "      <td>6.5</td>\n",
       "      <td>1966</td>\n",
       "      <td>0.000000e+00</td>\n",
       "      <td>0.000000e+00</td>\n",
       "    </tr>\n",
       "    <tr>\n",
       "      <th>10864</th>\n",
       "      <td>0.064317</td>\n",
       "      <td>0</td>\n",
       "      <td>0</td>\n",
       "      <td>80</td>\n",
       "      <td>2066-11-02</td>\n",
       "      <td>22</td>\n",
       "      <td>5.4</td>\n",
       "      <td>1966</td>\n",
       "      <td>0.000000e+00</td>\n",
       "      <td>0.000000e+00</td>\n",
       "    </tr>\n",
       "    <tr>\n",
       "      <th>10865</th>\n",
       "      <td>0.035919</td>\n",
       "      <td>19000</td>\n",
       "      <td>0</td>\n",
       "      <td>74</td>\n",
       "      <td>2066-11-15</td>\n",
       "      <td>15</td>\n",
       "      <td>1.5</td>\n",
       "      <td>1966</td>\n",
       "      <td>1.276423e+05</td>\n",
       "      <td>0.000000e+00</td>\n",
       "    </tr>\n",
       "  </tbody>\n",
       "</table>\n",
       "<p>10865 rows × 10 columns</p>\n",
       "</div>"
      ],
      "text/plain": [
       "       popularity     budget     revenue  runtime release_date  vote_count  \\\n",
       "0       32.985763  150000000  1513528810      124   2015-06-09        5562   \n",
       "1       28.419936  150000000   378436354      120   2015-05-13        6185   \n",
       "2       13.112507  110000000   295238201      119   2015-03-18        2480   \n",
       "3       11.173104  200000000  2068178225      136   2015-12-15        5292   \n",
       "4        9.335014  190000000  1506249360      137   2015-04-01        2947   \n",
       "...           ...        ...         ...      ...          ...         ...   \n",
       "10861    0.080598          0           0       95   2066-06-15          11   \n",
       "10862    0.065543          0           0      176   2066-12-21          20   \n",
       "10863    0.065141          0           0       94   2066-01-01          11   \n",
       "10864    0.064317          0           0       80   2066-11-02          22   \n",
       "10865    0.035919      19000           0       74   2066-11-15          15   \n",
       "\n",
       "       vote_average  release_year    budget_adj   revenue_adj  \n",
       "0               6.5          2015  1.379999e+08  1.392446e+09  \n",
       "1               7.1          2015  1.379999e+08  3.481613e+08  \n",
       "2               6.3          2015  1.012000e+08  2.716190e+08  \n",
       "3               7.5          2015  1.839999e+08  1.902723e+09  \n",
       "4               7.3          2015  1.747999e+08  1.385749e+09  \n",
       "...             ...           ...           ...           ...  \n",
       "10861           7.4          1966  0.000000e+00  0.000000e+00  \n",
       "10862           5.7          1966  0.000000e+00  0.000000e+00  \n",
       "10863           6.5          1966  0.000000e+00  0.000000e+00  \n",
       "10864           5.4          1966  0.000000e+00  0.000000e+00  \n",
       "10865           1.5          1966  1.276423e+05  0.000000e+00  \n",
       "\n",
       "[10865 rows x 10 columns]"
      ]
     },
     "execution_count": 27,
     "metadata": {},
     "output_type": "execute_result"
    }
   ],
   "source": [
    "import matplotlib.pyplot as plt\n",
    "# Calculate correclation among variables using correlation matrix for non-object variables\n",
    "#create new df with only numeric data\n",
    "data_type_to_exclude = 'object'\n",
    "numeric_movies_data=movies_data.select_dtypes(exclude=[data_type_to_exclude])\n",
    "#ececulde id col \n",
    "numeric_movies_data.drop(\"id\",axis=1,inplace=True)\n",
    "numeric_movies_data\n"
   ]
  },
  {
   "cell_type": "code",
   "execution_count": 28,
   "metadata": {},
   "outputs": [],
   "source": [
    "# drop release_date\n",
    "numeric_movies_data.drop(['release_year','release_date'],axis=1,inplace=True)"
   ]
  },
  {
   "cell_type": "code",
   "execution_count": 29,
   "metadata": {
    "scrolled": true
   },
   "outputs": [
    {
     "data": {
      "text/html": [
       "<div>\n",
       "<style scoped>\n",
       "    .dataframe tbody tr th:only-of-type {\n",
       "        vertical-align: middle;\n",
       "    }\n",
       "\n",
       "    .dataframe tbody tr th {\n",
       "        vertical-align: top;\n",
       "    }\n",
       "\n",
       "    .dataframe thead th {\n",
       "        text-align: right;\n",
       "    }\n",
       "</style>\n",
       "<table border=\"1\" class=\"dataframe\">\n",
       "  <thead>\n",
       "    <tr style=\"text-align: right;\">\n",
       "      <th></th>\n",
       "      <th>popularity</th>\n",
       "      <th>budget</th>\n",
       "      <th>revenue</th>\n",
       "      <th>runtime</th>\n",
       "      <th>vote_count</th>\n",
       "      <th>vote_average</th>\n",
       "      <th>budget_adj</th>\n",
       "      <th>revenue_adj</th>\n",
       "    </tr>\n",
       "  </thead>\n",
       "  <tbody>\n",
       "    <tr>\n",
       "      <th>0</th>\n",
       "      <td>32.985763</td>\n",
       "      <td>150000000</td>\n",
       "      <td>1513528810</td>\n",
       "      <td>124</td>\n",
       "      <td>5562</td>\n",
       "      <td>6.5</td>\n",
       "      <td>1.379999e+08</td>\n",
       "      <td>1.392446e+09</td>\n",
       "    </tr>\n",
       "    <tr>\n",
       "      <th>1</th>\n",
       "      <td>28.419936</td>\n",
       "      <td>150000000</td>\n",
       "      <td>378436354</td>\n",
       "      <td>120</td>\n",
       "      <td>6185</td>\n",
       "      <td>7.1</td>\n",
       "      <td>1.379999e+08</td>\n",
       "      <td>3.481613e+08</td>\n",
       "    </tr>\n",
       "    <tr>\n",
       "      <th>2</th>\n",
       "      <td>13.112507</td>\n",
       "      <td>110000000</td>\n",
       "      <td>295238201</td>\n",
       "      <td>119</td>\n",
       "      <td>2480</td>\n",
       "      <td>6.3</td>\n",
       "      <td>1.012000e+08</td>\n",
       "      <td>2.716190e+08</td>\n",
       "    </tr>\n",
       "    <tr>\n",
       "      <th>3</th>\n",
       "      <td>11.173104</td>\n",
       "      <td>200000000</td>\n",
       "      <td>2068178225</td>\n",
       "      <td>136</td>\n",
       "      <td>5292</td>\n",
       "      <td>7.5</td>\n",
       "      <td>1.839999e+08</td>\n",
       "      <td>1.902723e+09</td>\n",
       "    </tr>\n",
       "    <tr>\n",
       "      <th>4</th>\n",
       "      <td>9.335014</td>\n",
       "      <td>190000000</td>\n",
       "      <td>1506249360</td>\n",
       "      <td>137</td>\n",
       "      <td>2947</td>\n",
       "      <td>7.3</td>\n",
       "      <td>1.747999e+08</td>\n",
       "      <td>1.385749e+09</td>\n",
       "    </tr>\n",
       "    <tr>\n",
       "      <th>...</th>\n",
       "      <td>...</td>\n",
       "      <td>...</td>\n",
       "      <td>...</td>\n",
       "      <td>...</td>\n",
       "      <td>...</td>\n",
       "      <td>...</td>\n",
       "      <td>...</td>\n",
       "      <td>...</td>\n",
       "    </tr>\n",
       "    <tr>\n",
       "      <th>10861</th>\n",
       "      <td>0.080598</td>\n",
       "      <td>0</td>\n",
       "      <td>0</td>\n",
       "      <td>95</td>\n",
       "      <td>11</td>\n",
       "      <td>7.4</td>\n",
       "      <td>0.000000e+00</td>\n",
       "      <td>0.000000e+00</td>\n",
       "    </tr>\n",
       "    <tr>\n",
       "      <th>10862</th>\n",
       "      <td>0.065543</td>\n",
       "      <td>0</td>\n",
       "      <td>0</td>\n",
       "      <td>176</td>\n",
       "      <td>20</td>\n",
       "      <td>5.7</td>\n",
       "      <td>0.000000e+00</td>\n",
       "      <td>0.000000e+00</td>\n",
       "    </tr>\n",
       "    <tr>\n",
       "      <th>10863</th>\n",
       "      <td>0.065141</td>\n",
       "      <td>0</td>\n",
       "      <td>0</td>\n",
       "      <td>94</td>\n",
       "      <td>11</td>\n",
       "      <td>6.5</td>\n",
       "      <td>0.000000e+00</td>\n",
       "      <td>0.000000e+00</td>\n",
       "    </tr>\n",
       "    <tr>\n",
       "      <th>10864</th>\n",
       "      <td>0.064317</td>\n",
       "      <td>0</td>\n",
       "      <td>0</td>\n",
       "      <td>80</td>\n",
       "      <td>22</td>\n",
       "      <td>5.4</td>\n",
       "      <td>0.000000e+00</td>\n",
       "      <td>0.000000e+00</td>\n",
       "    </tr>\n",
       "    <tr>\n",
       "      <th>10865</th>\n",
       "      <td>0.035919</td>\n",
       "      <td>19000</td>\n",
       "      <td>0</td>\n",
       "      <td>74</td>\n",
       "      <td>15</td>\n",
       "      <td>1.5</td>\n",
       "      <td>1.276423e+05</td>\n",
       "      <td>0.000000e+00</td>\n",
       "    </tr>\n",
       "  </tbody>\n",
       "</table>\n",
       "<p>10865 rows × 8 columns</p>\n",
       "</div>"
      ],
      "text/plain": [
       "       popularity     budget     revenue  runtime  vote_count  vote_average  \\\n",
       "0       32.985763  150000000  1513528810      124        5562           6.5   \n",
       "1       28.419936  150000000   378436354      120        6185           7.1   \n",
       "2       13.112507  110000000   295238201      119        2480           6.3   \n",
       "3       11.173104  200000000  2068178225      136        5292           7.5   \n",
       "4        9.335014  190000000  1506249360      137        2947           7.3   \n",
       "...           ...        ...         ...      ...         ...           ...   \n",
       "10861    0.080598          0           0       95          11           7.4   \n",
       "10862    0.065543          0           0      176          20           5.7   \n",
       "10863    0.065141          0           0       94          11           6.5   \n",
       "10864    0.064317          0           0       80          22           5.4   \n",
       "10865    0.035919      19000           0       74          15           1.5   \n",
       "\n",
       "         budget_adj   revenue_adj  \n",
       "0      1.379999e+08  1.392446e+09  \n",
       "1      1.379999e+08  3.481613e+08  \n",
       "2      1.012000e+08  2.716190e+08  \n",
       "3      1.839999e+08  1.902723e+09  \n",
       "4      1.747999e+08  1.385749e+09  \n",
       "...             ...           ...  \n",
       "10861  0.000000e+00  0.000000e+00  \n",
       "10862  0.000000e+00  0.000000e+00  \n",
       "10863  0.000000e+00  0.000000e+00  \n",
       "10864  0.000000e+00  0.000000e+00  \n",
       "10865  1.276423e+05  0.000000e+00  \n",
       "\n",
       "[10865 rows x 8 columns]"
      ]
     },
     "execution_count": 29,
     "metadata": {},
     "output_type": "execute_result"
    }
   ],
   "source": [
    "numeric_movies_data"
   ]
  },
  {
   "cell_type": "code",
   "execution_count": 30,
   "metadata": {
    "scrolled": true
   },
   "outputs": [
    {
     "name": "stdout",
     "output_type": "stream",
     "text": [
      "         popularity        budget       revenue       runtime    vote_count  \\\n",
      "count  10865.000000  1.086500e+04  1.086500e+04  10865.000000  10865.000000   \n",
      "mean       0.646446  1.462429e+07  3.982690e+07    102.071790    217.399632   \n",
      "std        1.000231  3.091428e+07  1.170083e+08     31.382701    575.644627   \n",
      "min        0.000065  0.000000e+00  0.000000e+00      0.000000     10.000000   \n",
      "25%        0.207575  0.000000e+00  0.000000e+00     90.000000     17.000000   \n",
      "50%        0.383831  0.000000e+00  0.000000e+00     99.000000     38.000000   \n",
      "75%        0.713857  1.500000e+07  2.400000e+07    111.000000    146.000000   \n",
      "max       32.985763  4.250000e+08  2.781506e+09    900.000000   9767.000000   \n",
      "\n",
      "       vote_average    budget_adj   revenue_adj  \n",
      "count  10865.000000  1.086500e+04  1.086500e+04  \n",
      "mean       5.975012  1.754989e+07  5.136900e+07  \n",
      "std        0.935138  3.430753e+07  1.446383e+08  \n",
      "min        1.500000  0.000000e+00  0.000000e+00  \n",
      "25%        5.400000  0.000000e+00  0.000000e+00  \n",
      "50%        6.000000  0.000000e+00  0.000000e+00  \n",
      "75%        6.600000  2.085325e+07  3.370173e+07  \n",
      "max        9.200000  4.250000e+08  2.827124e+09  \n"
     ]
    }
   ],
   "source": [
    "# Statistics about numeric data\n",
    "print(numeric_movies_data.describe())\n"
   ]
  },
  {
   "cell_type": "code",
   "execution_count": 31,
   "metadata": {},
   "outputs": [
    {
     "data": {
      "text/plain": [
       "2.7233395122090864"
      ]
     },
     "execution_count": 31,
     "metadata": {},
     "output_type": "execute_result"
    }
   ],
   "source": [
    "#average revenue/ average budget\n",
    "movies_data['revenue'].mean()/movies_data['budget'].mean()"
   ]
  },
  {
   "cell_type": "markdown",
   "metadata": {},
   "source": [
    "#### The previous description shows some statistics about numeric colums\n",
    "#### There are some intresting findings like in vote_count the maximum number of votes is 9767 votes while the average is  217.\n",
    "####  Checking the charactaristics of the movie that got this number of votes might be helpful in understanding the dataset\n",
    "#### The average  budget is 14624290 dollars and the average revenue is  39826900 dollars, this mean that on average the \n",
    "#### reward is 2.7 * budget ( Investing in movies is very rewarding)"
   ]
  },
  {
   "cell_type": "code",
   "execution_count": 32,
   "metadata": {
    "scrolled": true
   },
   "outputs": [
    {
     "data": {
      "text/html": [
       "<div>\n",
       "<style scoped>\n",
       "    .dataframe tbody tr th:only-of-type {\n",
       "        vertical-align: middle;\n",
       "    }\n",
       "\n",
       "    .dataframe tbody tr th {\n",
       "        vertical-align: top;\n",
       "    }\n",
       "\n",
       "    .dataframe thead th {\n",
       "        text-align: right;\n",
       "    }\n",
       "</style>\n",
       "<table border=\"1\" class=\"dataframe\">\n",
       "  <thead>\n",
       "    <tr style=\"text-align: right;\">\n",
       "      <th></th>\n",
       "      <th>id</th>\n",
       "      <th>imdb_id</th>\n",
       "      <th>popularity</th>\n",
       "      <th>budget</th>\n",
       "      <th>revenue</th>\n",
       "      <th>original_title</th>\n",
       "      <th>cast</th>\n",
       "      <th>director</th>\n",
       "      <th>tagline</th>\n",
       "      <th>keywords</th>\n",
       "      <th>overview</th>\n",
       "      <th>runtime</th>\n",
       "      <th>genres</th>\n",
       "      <th>production_companies</th>\n",
       "      <th>release_date</th>\n",
       "      <th>vote_count</th>\n",
       "      <th>vote_average</th>\n",
       "      <th>release_year</th>\n",
       "      <th>budget_adj</th>\n",
       "      <th>revenue_adj</th>\n",
       "    </tr>\n",
       "  </thead>\n",
       "  <tbody>\n",
       "    <tr>\n",
       "      <th>1919</th>\n",
       "      <td>27205</td>\n",
       "      <td>tt1375666</td>\n",
       "      <td>9.363643</td>\n",
       "      <td>160000000</td>\n",
       "      <td>825500000</td>\n",
       "      <td>Inception</td>\n",
       "      <td>Leonardo DiCaprio|Joseph Gordon-Levitt|Ellen P...</td>\n",
       "      <td>Christopher Nolan</td>\n",
       "      <td>Your mind is the scene of the crime.</td>\n",
       "      <td>loss of lover|dream|sleep|subconsciousness|heist</td>\n",
       "      <td>Cobb, a skilled thief who commits corporate es...</td>\n",
       "      <td>148</td>\n",
       "      <td>Action|Thriller|Science Fiction|Mystery|Adventure</td>\n",
       "      <td>Legendary Pictures|Warner Bros.|Syncopy</td>\n",
       "      <td>2010-07-14</td>\n",
       "      <td>9767</td>\n",
       "      <td>7.9</td>\n",
       "      <td>2010</td>\n",
       "      <td>160000000.0</td>\n",
       "      <td>825500000.0</td>\n",
       "    </tr>\n",
       "  </tbody>\n",
       "</table>\n",
       "</div>"
      ],
      "text/plain": [
       "         id    imdb_id  popularity     budget    revenue original_title  \\\n",
       "1919  27205  tt1375666    9.363643  160000000  825500000      Inception   \n",
       "\n",
       "                                                   cast           director  \\\n",
       "1919  Leonardo DiCaprio|Joseph Gordon-Levitt|Ellen P...  Christopher Nolan   \n",
       "\n",
       "                                   tagline  \\\n",
       "1919  Your mind is the scene of the crime.   \n",
       "\n",
       "                                              keywords  \\\n",
       "1919  loss of lover|dream|sleep|subconsciousness|heist   \n",
       "\n",
       "                                               overview  runtime  \\\n",
       "1919  Cobb, a skilled thief who commits corporate es...      148   \n",
       "\n",
       "                                                 genres  \\\n",
       "1919  Action|Thriller|Science Fiction|Mystery|Adventure   \n",
       "\n",
       "                         production_companies release_date  vote_count  \\\n",
       "1919  Legendary Pictures|Warner Bros.|Syncopy   2010-07-14        9767   \n",
       "\n",
       "      vote_average  release_year   budget_adj  revenue_adj  \n",
       "1919           7.9          2010  160000000.0  825500000.0  "
      ]
     },
     "execution_count": 32,
     "metadata": {},
     "output_type": "execute_result"
    }
   ],
   "source": [
    "# Movie with the max number of votes\n",
    "movies_data[movies_data['vote_count']>9000]"
   ]
  },
  {
   "cell_type": "markdown",
   "metadata": {},
   "source": [
    "#### The movie with the max number of votes is categorized as Action, Thriller, Science Fiction, Mystery movie it has above average popularity, budget and revenue"
   ]
  },
  {
   "cell_type": "code",
   "execution_count": 33,
   "metadata": {},
   "outputs": [
    {
     "data": {
      "text/html": [
       "<div>\n",
       "<style scoped>\n",
       "    .dataframe tbody tr th:only-of-type {\n",
       "        vertical-align: middle;\n",
       "    }\n",
       "\n",
       "    .dataframe tbody tr th {\n",
       "        vertical-align: top;\n",
       "    }\n",
       "\n",
       "    .dataframe thead th {\n",
       "        text-align: right;\n",
       "    }\n",
       "</style>\n",
       "<table border=\"1\" class=\"dataframe\">\n",
       "  <thead>\n",
       "    <tr style=\"text-align: right;\">\n",
       "      <th></th>\n",
       "      <th>popularity</th>\n",
       "      <th>budget</th>\n",
       "      <th>revenue</th>\n",
       "      <th>runtime</th>\n",
       "      <th>vote_count</th>\n",
       "      <th>vote_average</th>\n",
       "      <th>budget_adj</th>\n",
       "      <th>revenue_adj</th>\n",
       "    </tr>\n",
       "  </thead>\n",
       "  <tbody>\n",
       "    <tr>\n",
       "      <th>popularity</th>\n",
       "      <td>1.000000</td>\n",
       "      <td>0.545481</td>\n",
       "      <td>0.663360</td>\n",
       "      <td>0.139032</td>\n",
       "      <td>0.800828</td>\n",
       "      <td>0.209517</td>\n",
       "      <td>0.513555</td>\n",
       "      <td>0.609085</td>\n",
       "    </tr>\n",
       "    <tr>\n",
       "      <th>budget</th>\n",
       "      <td>0.545481</td>\n",
       "      <td>1.000000</td>\n",
       "      <td>0.734928</td>\n",
       "      <td>0.191300</td>\n",
       "      <td>0.632719</td>\n",
       "      <td>0.081067</td>\n",
       "      <td>0.968963</td>\n",
       "      <td>0.622531</td>\n",
       "    </tr>\n",
       "    <tr>\n",
       "      <th>revenue</th>\n",
       "      <td>0.663360</td>\n",
       "      <td>0.734928</td>\n",
       "      <td>1.000000</td>\n",
       "      <td>0.162830</td>\n",
       "      <td>0.791174</td>\n",
       "      <td>0.172541</td>\n",
       "      <td>0.706446</td>\n",
       "      <td>0.919109</td>\n",
       "    </tr>\n",
       "    <tr>\n",
       "      <th>runtime</th>\n",
       "      <td>0.139032</td>\n",
       "      <td>0.191300</td>\n",
       "      <td>0.162830</td>\n",
       "      <td>1.000000</td>\n",
       "      <td>0.163273</td>\n",
       "      <td>0.156813</td>\n",
       "      <td>0.221127</td>\n",
       "      <td>0.175668</td>\n",
       "    </tr>\n",
       "    <tr>\n",
       "      <th>vote_count</th>\n",
       "      <td>0.800828</td>\n",
       "      <td>0.632719</td>\n",
       "      <td>0.791174</td>\n",
       "      <td>0.163273</td>\n",
       "      <td>1.000000</td>\n",
       "      <td>0.253818</td>\n",
       "      <td>0.587062</td>\n",
       "      <td>0.707941</td>\n",
       "    </tr>\n",
       "    <tr>\n",
       "      <th>vote_average</th>\n",
       "      <td>0.209517</td>\n",
       "      <td>0.081067</td>\n",
       "      <td>0.172541</td>\n",
       "      <td>0.156813</td>\n",
       "      <td>0.253818</td>\n",
       "      <td>1.000000</td>\n",
       "      <td>0.093079</td>\n",
       "      <td>0.193062</td>\n",
       "    </tr>\n",
       "    <tr>\n",
       "      <th>budget_adj</th>\n",
       "      <td>0.513555</td>\n",
       "      <td>0.968963</td>\n",
       "      <td>0.706446</td>\n",
       "      <td>0.221127</td>\n",
       "      <td>0.587062</td>\n",
       "      <td>0.093079</td>\n",
       "      <td>1.000000</td>\n",
       "      <td>0.646627</td>\n",
       "    </tr>\n",
       "    <tr>\n",
       "      <th>revenue_adj</th>\n",
       "      <td>0.609085</td>\n",
       "      <td>0.622531</td>\n",
       "      <td>0.919109</td>\n",
       "      <td>0.175668</td>\n",
       "      <td>0.707941</td>\n",
       "      <td>0.193062</td>\n",
       "      <td>0.646627</td>\n",
       "      <td>1.000000</td>\n",
       "    </tr>\n",
       "  </tbody>\n",
       "</table>\n",
       "</div>"
      ],
      "text/plain": [
       "              popularity    budget   revenue   runtime  vote_count  \\\n",
       "popularity      1.000000  0.545481  0.663360  0.139032    0.800828   \n",
       "budget          0.545481  1.000000  0.734928  0.191300    0.632719   \n",
       "revenue         0.663360  0.734928  1.000000  0.162830    0.791174   \n",
       "runtime         0.139032  0.191300  0.162830  1.000000    0.163273   \n",
       "vote_count      0.800828  0.632719  0.791174  0.163273    1.000000   \n",
       "vote_average    0.209517  0.081067  0.172541  0.156813    0.253818   \n",
       "budget_adj      0.513555  0.968963  0.706446  0.221127    0.587062   \n",
       "revenue_adj     0.609085  0.622531  0.919109  0.175668    0.707941   \n",
       "\n",
       "              vote_average  budget_adj  revenue_adj  \n",
       "popularity        0.209517    0.513555     0.609085  \n",
       "budget            0.081067    0.968963     0.622531  \n",
       "revenue           0.172541    0.706446     0.919109  \n",
       "runtime           0.156813    0.221127     0.175668  \n",
       "vote_count        0.253818    0.587062     0.707941  \n",
       "vote_average      1.000000    0.093079     0.193062  \n",
       "budget_adj        0.093079    1.000000     0.646627  \n",
       "revenue_adj       0.193062    0.646627     1.000000  "
      ]
     },
     "execution_count": 33,
     "metadata": {},
     "output_type": "execute_result"
    }
   ],
   "source": [
    "# Calculate correlation matrix to explore relationship between variables\n",
    "corr_matrix = numeric_movies_data.corr()\n",
    "corr_matrix"
   ]
  },
  {
   "cell_type": "code",
   "execution_count": 34,
   "metadata": {
    "scrolled": false
   },
   "outputs": [
    {
     "name": "stdout",
     "output_type": "stream",
     "text": [
      "              popularity  budget  revenue  runtime  vote_count  vote_average  \\\n",
      "popularity         False   False    False    False       False         False   \n",
      "budget             False   False    False    False       False         False   \n",
      "revenue            False    True    False    False       False         False   \n",
      "runtime            False   False    False    False       False         False   \n",
      "vote_count          True   False     True    False       False         False   \n",
      "vote_average       False   False    False    False       False         False   \n",
      "budget_adj         False    True     True    False       False         False   \n",
      "revenue_adj        False   False     True    False        True         False   \n",
      "\n",
      "              budget_adj  revenue_adj  \n",
      "popularity         False        False  \n",
      "budget             False        False  \n",
      "revenue            False        False  \n",
      "runtime            False        False  \n",
      "vote_count         False        False  \n",
      "vote_average       False        False  \n",
      "budget_adj         False        False  \n",
      "revenue_adj        False        False  \n"
     ]
    }
   ],
   "source": [
    "# Check which numeric variables have strong positive linear relationship (Threshold=0.70)\n",
    "threshold =0.70\n",
    "filtered_corr = corr_matrix.where(~np.triu(np.ones(corr_matrix.shape)).astype(bool)) > threshold\n",
    "print(filtered_corr)"
   ]
  },
  {
   "cell_type": "markdown",
   "metadata": {},
   "source": [
    "### Based on correlation among variables, here are variables that have strong linear relationship ( correlation>=70%)\n",
    "1) Revenue and budget\n",
    "2) Vote count and popularity\n",
    "3) Vote count and revenue\n",
    "4) budget_adj and budget\n",
    "5) budget_adj and revenue \n",
    "6) revenue_adj and vote count\n",
    "7) revenue_adj and revenue"
   ]
  },
  {
   "cell_type": "markdown",
   "metadata": {},
   "source": [
    "#### Draw relationship between Revenue and budget"
   ]
  },
  {
   "cell_type": "code",
   "execution_count": 35,
   "metadata": {
    "scrolled": true
   },
   "outputs": [
    {
     "data": {
      "text/plain": [
       "Text(0.5, 0, 'Revenue')"
      ]
     },
     "execution_count": 35,
     "metadata": {},
     "output_type": "execute_result"
    },
    {
     "data": {
      "image/png": "[encoded data removed]",
      "text/plain": [
       "<Figure size 640x480 with 1 Axes>"
      ]
     },
     "metadata": {},
     "output_type": "display_data"
    }
   ],
   "source": [
    "numeric_movies_data.plot.scatter(x='revenue', y='budget', title='Linear relationship between Revenue and budget').set_xlabel('Revenue')"
   ]
  },
  {
   "cell_type": "markdown",
   "metadata": {},
   "source": [
    "#### Relationship between vote count and popularity"
   ]
  },
  {
   "cell_type": "code",
   "execution_count": 36,
   "metadata": {
    "scrolled": false
   },
   "outputs": [
    {
     "data": {
      "text/plain": [
       "Text(0.5, 0, 'Vote Count')"
      ]
     },
     "execution_count": 36,
     "metadata": {},
     "output_type": "execute_result"
    },
    {
     "data": {
      "image/png": "[encoded data removed]",
      "text/plain": [
       "<Figure size 640x480 with 1 Axes>"
      ]
     },
     "metadata": {},
     "output_type": "display_data"
    }
   ],
   "source": [
    "numeric_movies_data.plot.scatter(x='vote_count', y='popularity', title='Linear relationship between vote count and popularity').set_xlabel('Vote Count')"
   ]
  },
  {
   "cell_type": "markdown",
   "metadata": {},
   "source": [
    "#### Relationship between budget count and popularity"
   ]
  },
  {
   "cell_type": "code",
   "execution_count": 37,
   "metadata": {
    "scrolled": true
   },
   "outputs": [
    {
     "data": {
      "text/plain": [
       "Text(0.5, 0, 'Vote Count')"
      ]
     },
     "execution_count": 37,
     "metadata": {},
     "output_type": "execute_result"
    },
    {
     "data": {
      "image/png": "[encoded data removed]",
      "text/plain": [
       "<Figure size 640x480 with 1 Axes>"
      ]
     },
     "metadata": {},
     "output_type": "display_data"
    }
   ],
   "source": [
    "numeric_movies_data.plot.scatter(x='budget', y='popularity', title='Linear relationship between vote count and popularity').set_xlabel('Vote Count')"
   ]
  },
  {
   "cell_type": "markdown",
   "metadata": {},
   "source": [
    " #### Check wich year has the most number of movies"
   ]
  },
  {
   "cell_type": "code",
   "execution_count": 67,
   "metadata": {
    "scrolled": false
   },
   "outputs": [
    {
     "data": {
      "image/png": "[encoded data removed]",
      "text/plain": [
       "<Figure size 640x480 with 1 Axes>"
      ]
     },
     "metadata": {},
     "output_type": "display_data"
    }
   ],
   "source": [
    "## histogram\n",
    "movies_data['release_year'].hist( bins=5, edgecolor='black', alpha=0.7, linewidth=1.5)\n",
    "# Add title and labels\n",
    "plt.title('Number of movies per year')\n",
    "plt.xlabel('Year')\n",
    "plt.ylabel('Frequency')\n",
    "\n",
    "# Show plot\n",
    "plt.show()"
   ]
  },
  {
   "cell_type": "code",
   "execution_count": 66,
   "metadata": {
    "scrolled": true
   },
   "outputs": [
    {
     "name": "stdout",
     "output_type": "stream",
     "text": [
      "0.5522319374137138\n"
     ]
    }
   ],
   "source": [
    "print(6000/len(movies_data))\n"
   ]
  },
  {
   "cell_type": "markdown",
   "metadata": {},
   "source": [
    "#### The histogram shows that most of the movies in the dataset ( 55%)  were  produced in 2010 and after\n"
   ]
  },
  {
   "cell_type": "markdown",
   "metadata": {},
   "source": [
    "### Relationship between Revenue count and popularity"
   ]
  },
  {
   "cell_type": "code",
   "execution_count": 65,
   "metadata": {},
   "outputs": [
    {
     "data": {
      "text/plain": [
       "Text(0.5, 0, 'Vote Count')"
      ]
     },
     "execution_count": 65,
     "metadata": {},
     "output_type": "execute_result"
    },
    {
     "data": {
      "image/png": "[encoded data removed]",
      "text/plain": [
       "<Figure size 640x480 with 1 Axes>"
      ]
     },
     "metadata": {},
     "output_type": "display_data"
    }
   ],
   "source": [
    "numeric_movies_data.plot.scatter(x='revenue', y='popularity', title='Linear relationship between vote count and popularity').set_xlabel('Vote Count')"
   ]
  },
  {
   "cell_type": "markdown",
   "metadata": {},
   "source": [
    "### Research Question 2 :  What Theme (Genere) of movies get the most revenue?"
   ]
  },
  {
   "cell_type": "markdown",
   "metadata": {},
   "source": [
    "#### Analysing the relationship betwee generes , revenue, budget and popularity"
   ]
  },
  {
   "cell_type": "code",
   "execution_count": 42,
   "metadata": {},
   "outputs": [],
   "source": [
    "# Converting genere values to list of values\n",
    "#relationship between genera and revenue \n",
    "#len(movies_data['genres'].unique())\n"
   ]
  },
  {
   "cell_type": "markdown",
   "metadata": {},
   "source": [
    "### Save all unique movies genere into unique_generes list"
   ]
  },
  {
   "cell_type": "code",
   "execution_count": 43,
   "metadata": {
    "scrolled": true
   },
   "outputs": [
    {
     "data": {
      "text/plain": [
       "{'Action',\n",
       " 'Adventure',\n",
       " 'Animation',\n",
       " 'Comedy',\n",
       " 'Crime',\n",
       " 'Documentary',\n",
       " 'Drama',\n",
       " 'Family',\n",
       " 'Fantasy',\n",
       " 'Foreign',\n",
       " 'History',\n",
       " 'Horror',\n",
       " 'Music',\n",
       " 'Mystery',\n",
       " 'Romance',\n",
       " 'Science Fiction',\n",
       " 'TV Movie',\n",
       " 'Thriller',\n",
       " 'War',\n",
       " 'Western',\n",
       " 'unavailable'}"
      ]
     },
     "execution_count": 43,
     "metadata": {},
     "output_type": "execute_result"
    }
   ],
   "source": [
    "list_of_genres=[]\n",
    "unique_generes=set()\n",
    "for movie in movies_data['genres']:\n",
    "    list_of_generes=movie.split('|')\n",
    "    for gen in list_of_generes:\n",
    "        unique_generes.add(gen)\n",
    "# store all movies themes in one set\n",
    "unique_generes"
   ]
  },
  {
   "cell_type": "code",
   "execution_count": 44,
   "metadata": {},
   "outputs": [
    {
     "data": {
      "text/plain": [
       "21"
      ]
     },
     "execution_count": 44,
     "metadata": {},
     "output_type": "execute_result"
    }
   ],
   "source": [
    "# we have 21 unique generes\n",
    "len(unique_generes)"
   ]
  },
  {
   "cell_type": "code",
   "execution_count": 45,
   "metadata": {},
   "outputs": [],
   "source": [
    "temp=movies_data"
   ]
  },
  {
   "cell_type": "code",
   "execution_count": 46,
   "metadata": {},
   "outputs": [],
   "source": [
    "list_of_genere=[]\n",
    "for genres in temp['genres']:\n",
    "    list_of_genere.append(genres.split('|'))\n",
    "    \n",
    "    "
   ]
  },
  {
   "cell_type": "code",
   "execution_count": 47,
   "metadata": {},
   "outputs": [],
   "source": [
    "temp=temp.assign(list_genere=list_of_genere)\n"
   ]
  },
  {
   "cell_type": "code",
   "execution_count": 48,
   "metadata": {},
   "outputs": [],
   "source": [
    "# drom the genere to replace it with list of generes to handle it\n",
    "temp.drop(\"genres\",axis=1,inplace=True)"
   ]
  },
  {
   "cell_type": "code",
   "execution_count": 49,
   "metadata": {},
   "outputs": [],
   "source": [
    "movies_data=temp"
   ]
  },
  {
   "cell_type": "markdown",
   "metadata": {},
   "source": [
    "### The column genere now has list of themes for each movie"
   ]
  },
  {
   "cell_type": "code",
   "execution_count": 50,
   "metadata": {
    "scrolled": false
   },
   "outputs": [
    {
     "data": {
      "text/html": [
       "<div>\n",
       "<style scoped>\n",
       "    .dataframe tbody tr th:only-of-type {\n",
       "        vertical-align: middle;\n",
       "    }\n",
       "\n",
       "    .dataframe tbody tr th {\n",
       "        vertical-align: top;\n",
       "    }\n",
       "\n",
       "    .dataframe thead th {\n",
       "        text-align: right;\n",
       "    }\n",
       "</style>\n",
       "<table border=\"1\" class=\"dataframe\">\n",
       "  <thead>\n",
       "    <tr style=\"text-align: right;\">\n",
       "      <th></th>\n",
       "      <th>id</th>\n",
       "      <th>imdb_id</th>\n",
       "      <th>popularity</th>\n",
       "      <th>budget</th>\n",
       "      <th>revenue</th>\n",
       "      <th>original_title</th>\n",
       "      <th>cast</th>\n",
       "      <th>director</th>\n",
       "      <th>tagline</th>\n",
       "      <th>keywords</th>\n",
       "      <th>overview</th>\n",
       "      <th>runtime</th>\n",
       "      <th>production_companies</th>\n",
       "      <th>release_date</th>\n",
       "      <th>vote_count</th>\n",
       "      <th>vote_average</th>\n",
       "      <th>release_year</th>\n",
       "      <th>budget_adj</th>\n",
       "      <th>revenue_adj</th>\n",
       "      <th>list_genere</th>\n",
       "    </tr>\n",
       "  </thead>\n",
       "  <tbody>\n",
       "    <tr>\n",
       "      <th>0</th>\n",
       "      <td>135397</td>\n",
       "      <td>tt0369610</td>\n",
       "      <td>32.985763</td>\n",
       "      <td>150000000</td>\n",
       "      <td>1513528810</td>\n",
       "      <td>Jurassic World</td>\n",
       "      <td>Chris Pratt|Bryce Dallas Howard|Irrfan Khan|Vi...</td>\n",
       "      <td>Colin Trevorrow</td>\n",
       "      <td>The park is open.</td>\n",
       "      <td>monster|dna|tyrannosaurus rex|velociraptor|island</td>\n",
       "      <td>Twenty-two years after the events of Jurassic ...</td>\n",
       "      <td>124</td>\n",
       "      <td>Universal Studios|Amblin Entertainment|Legenda...</td>\n",
       "      <td>2015-06-09</td>\n",
       "      <td>5562</td>\n",
       "      <td>6.5</td>\n",
       "      <td>2015</td>\n",
       "      <td>1.379999e+08</td>\n",
       "      <td>1.392446e+09</td>\n",
       "      <td>[Action, Adventure, Science Fiction, Thriller]</td>\n",
       "    </tr>\n",
       "    <tr>\n",
       "      <th>1</th>\n",
       "      <td>76341</td>\n",
       "      <td>tt1392190</td>\n",
       "      <td>28.419936</td>\n",
       "      <td>150000000</td>\n",
       "      <td>378436354</td>\n",
       "      <td>Mad Max: Fury Road</td>\n",
       "      <td>Tom Hardy|Charlize Theron|Hugh Keays-Byrne|Nic...</td>\n",
       "      <td>George Miller</td>\n",
       "      <td>What a Lovely Day.</td>\n",
       "      <td>future|chase|post-apocalyptic|dystopia|australia</td>\n",
       "      <td>An apocalyptic story set in the furthest reach...</td>\n",
       "      <td>120</td>\n",
       "      <td>Village Roadshow Pictures|Kennedy Miller Produ...</td>\n",
       "      <td>2015-05-13</td>\n",
       "      <td>6185</td>\n",
       "      <td>7.1</td>\n",
       "      <td>2015</td>\n",
       "      <td>1.379999e+08</td>\n",
       "      <td>3.481613e+08</td>\n",
       "      <td>[Action, Adventure, Science Fiction, Thriller]</td>\n",
       "    </tr>\n",
       "    <tr>\n",
       "      <th>2</th>\n",
       "      <td>262500</td>\n",
       "      <td>tt2908446</td>\n",
       "      <td>13.112507</td>\n",
       "      <td>110000000</td>\n",
       "      <td>295238201</td>\n",
       "      <td>Insurgent</td>\n",
       "      <td>Shailene Woodley|Theo James|Kate Winslet|Ansel...</td>\n",
       "      <td>Robert Schwentke</td>\n",
       "      <td>One Choice Can Destroy You</td>\n",
       "      <td>based on novel|revolution|dystopia|sequel|dyst...</td>\n",
       "      <td>Beatrice Prior must confront her inner demons ...</td>\n",
       "      <td>119</td>\n",
       "      <td>Summit Entertainment|Mandeville Films|Red Wago...</td>\n",
       "      <td>2015-03-18</td>\n",
       "      <td>2480</td>\n",
       "      <td>6.3</td>\n",
       "      <td>2015</td>\n",
       "      <td>1.012000e+08</td>\n",
       "      <td>2.716190e+08</td>\n",
       "      <td>[Adventure, Science Fiction, Thriller]</td>\n",
       "    </tr>\n",
       "    <tr>\n",
       "      <th>3</th>\n",
       "      <td>140607</td>\n",
       "      <td>tt2488496</td>\n",
       "      <td>11.173104</td>\n",
       "      <td>200000000</td>\n",
       "      <td>2068178225</td>\n",
       "      <td>Star Wars: The Force Awakens</td>\n",
       "      <td>Harrison Ford|Mark Hamill|Carrie Fisher|Adam D...</td>\n",
       "      <td>J.J. Abrams</td>\n",
       "      <td>Every generation has a story.</td>\n",
       "      <td>android|spaceship|jedi|space opera|3d</td>\n",
       "      <td>Thirty years after defeating the Galactic Empi...</td>\n",
       "      <td>136</td>\n",
       "      <td>Lucasfilm|Truenorth Productions|Bad Robot</td>\n",
       "      <td>2015-12-15</td>\n",
       "      <td>5292</td>\n",
       "      <td>7.5</td>\n",
       "      <td>2015</td>\n",
       "      <td>1.839999e+08</td>\n",
       "      <td>1.902723e+09</td>\n",
       "      <td>[Action, Adventure, Science Fiction, Fantasy]</td>\n",
       "    </tr>\n",
       "    <tr>\n",
       "      <th>4</th>\n",
       "      <td>168259</td>\n",
       "      <td>tt2820852</td>\n",
       "      <td>9.335014</td>\n",
       "      <td>190000000</td>\n",
       "      <td>1506249360</td>\n",
       "      <td>Furious 7</td>\n",
       "      <td>Vin Diesel|Paul Walker|Jason Statham|Michelle ...</td>\n",
       "      <td>James Wan</td>\n",
       "      <td>Vengeance Hits Home</td>\n",
       "      <td>car race|speed|revenge|suspense|car</td>\n",
       "      <td>Deckard Shaw seeks revenge against Dominic Tor...</td>\n",
       "      <td>137</td>\n",
       "      <td>Universal Pictures|Original Film|Media Rights ...</td>\n",
       "      <td>2015-04-01</td>\n",
       "      <td>2947</td>\n",
       "      <td>7.3</td>\n",
       "      <td>2015</td>\n",
       "      <td>1.747999e+08</td>\n",
       "      <td>1.385749e+09</td>\n",
       "      <td>[Action, Crime, Thriller]</td>\n",
       "    </tr>\n",
       "    <tr>\n",
       "      <th>...</th>\n",
       "      <td>...</td>\n",
       "      <td>...</td>\n",
       "      <td>...</td>\n",
       "      <td>...</td>\n",
       "      <td>...</td>\n",
       "      <td>...</td>\n",
       "      <td>...</td>\n",
       "      <td>...</td>\n",
       "      <td>...</td>\n",
       "      <td>...</td>\n",
       "      <td>...</td>\n",
       "      <td>...</td>\n",
       "      <td>...</td>\n",
       "      <td>...</td>\n",
       "      <td>...</td>\n",
       "      <td>...</td>\n",
       "      <td>...</td>\n",
       "      <td>...</td>\n",
       "      <td>...</td>\n",
       "      <td>...</td>\n",
       "    </tr>\n",
       "    <tr>\n",
       "      <th>10861</th>\n",
       "      <td>21</td>\n",
       "      <td>tt0060371</td>\n",
       "      <td>0.080598</td>\n",
       "      <td>0</td>\n",
       "      <td>0</td>\n",
       "      <td>The Endless Summer</td>\n",
       "      <td>Michael Hynson|Robert August|Lord 'Tally Ho' B...</td>\n",
       "      <td>Bruce Brown</td>\n",
       "      <td>unavailable</td>\n",
       "      <td>surfer|surfboard|surfing</td>\n",
       "      <td>The Endless Summer, by Bruce Brown, is one of ...</td>\n",
       "      <td>95</td>\n",
       "      <td>Bruce Brown Films</td>\n",
       "      <td>2066-06-15</td>\n",
       "      <td>11</td>\n",
       "      <td>7.4</td>\n",
       "      <td>1966</td>\n",
       "      <td>0.000000e+00</td>\n",
       "      <td>0.000000e+00</td>\n",
       "      <td>[Documentary]</td>\n",
       "    </tr>\n",
       "    <tr>\n",
       "      <th>10862</th>\n",
       "      <td>20379</td>\n",
       "      <td>tt0060472</td>\n",
       "      <td>0.065543</td>\n",
       "      <td>0</td>\n",
       "      <td>0</td>\n",
       "      <td>Grand Prix</td>\n",
       "      <td>James Garner|Eva Marie Saint|Yves Montand|Tosh...</td>\n",
       "      <td>John Frankenheimer</td>\n",
       "      <td>Cinerama sweeps YOU into a drama of speed and ...</td>\n",
       "      <td>car race|racing|formula 1</td>\n",
       "      <td>Grand Prix driver Pete Aron is fired by his te...</td>\n",
       "      <td>176</td>\n",
       "      <td>Cherokee Productions|Joel Productions|Douglas ...</td>\n",
       "      <td>2066-12-21</td>\n",
       "      <td>20</td>\n",
       "      <td>5.7</td>\n",
       "      <td>1966</td>\n",
       "      <td>0.000000e+00</td>\n",
       "      <td>0.000000e+00</td>\n",
       "      <td>[Action, Adventure, Drama]</td>\n",
       "    </tr>\n",
       "    <tr>\n",
       "      <th>10863</th>\n",
       "      <td>39768</td>\n",
       "      <td>tt0060161</td>\n",
       "      <td>0.065141</td>\n",
       "      <td>0</td>\n",
       "      <td>0</td>\n",
       "      <td>Beregis Avtomobilya</td>\n",
       "      <td>Innokentiy Smoktunovskiy|Oleg Efremov|Georgi Z...</td>\n",
       "      <td>Eldar Ryazanov</td>\n",
       "      <td>unavailable</td>\n",
       "      <td>car|trolley|stealing car</td>\n",
       "      <td>An insurance agent who moonlights as a carthie...</td>\n",
       "      <td>94</td>\n",
       "      <td>Mosfilm</td>\n",
       "      <td>2066-01-01</td>\n",
       "      <td>11</td>\n",
       "      <td>6.5</td>\n",
       "      <td>1966</td>\n",
       "      <td>0.000000e+00</td>\n",
       "      <td>0.000000e+00</td>\n",
       "      <td>[Mystery, Comedy]</td>\n",
       "    </tr>\n",
       "    <tr>\n",
       "      <th>10864</th>\n",
       "      <td>21449</td>\n",
       "      <td>tt0061177</td>\n",
       "      <td>0.064317</td>\n",
       "      <td>0</td>\n",
       "      <td>0</td>\n",
       "      <td>What's Up, Tiger Lily?</td>\n",
       "      <td>Tatsuya Mihashi|Akiko Wakabayashi|Mie Hama|Joh...</td>\n",
       "      <td>Woody Allen</td>\n",
       "      <td>WOODY ALLEN STRIKES BACK!</td>\n",
       "      <td>spoof</td>\n",
       "      <td>In comic Woody Allen's film debut, he took the...</td>\n",
       "      <td>80</td>\n",
       "      <td>Benedict Pictures Corp.</td>\n",
       "      <td>2066-11-02</td>\n",
       "      <td>22</td>\n",
       "      <td>5.4</td>\n",
       "      <td>1966</td>\n",
       "      <td>0.000000e+00</td>\n",
       "      <td>0.000000e+00</td>\n",
       "      <td>[Action, Comedy]</td>\n",
       "    </tr>\n",
       "    <tr>\n",
       "      <th>10865</th>\n",
       "      <td>22293</td>\n",
       "      <td>tt0060666</td>\n",
       "      <td>0.035919</td>\n",
       "      <td>19000</td>\n",
       "      <td>0</td>\n",
       "      <td>Manos: The Hands of Fate</td>\n",
       "      <td>Harold P. Warren|Tom Neyman|John Reynolds|Dian...</td>\n",
       "      <td>Harold P. Warren</td>\n",
       "      <td>It's Shocking! It's Beyond Your Imagination!</td>\n",
       "      <td>fire|gun|drive|sacrifice|flashlight</td>\n",
       "      <td>A family gets lost on the road and stumbles up...</td>\n",
       "      <td>74</td>\n",
       "      <td>Norm-Iris</td>\n",
       "      <td>2066-11-15</td>\n",
       "      <td>15</td>\n",
       "      <td>1.5</td>\n",
       "      <td>1966</td>\n",
       "      <td>1.276423e+05</td>\n",
       "      <td>0.000000e+00</td>\n",
       "      <td>[Horror]</td>\n",
       "    </tr>\n",
       "  </tbody>\n",
       "</table>\n",
       "<p>10865 rows × 20 columns</p>\n",
       "</div>"
      ],
      "text/plain": [
       "           id    imdb_id  popularity     budget     revenue  \\\n",
       "0      135397  tt0369610   32.985763  150000000  1513528810   \n",
       "1       76341  tt1392190   28.419936  150000000   378436354   \n",
       "2      262500  tt2908446   13.112507  110000000   295238201   \n",
       "3      140607  tt2488496   11.173104  200000000  2068178225   \n",
       "4      168259  tt2820852    9.335014  190000000  1506249360   \n",
       "...       ...        ...         ...        ...         ...   \n",
       "10861      21  tt0060371    0.080598          0           0   \n",
       "10862   20379  tt0060472    0.065543          0           0   \n",
       "10863   39768  tt0060161    0.065141          0           0   \n",
       "10864   21449  tt0061177    0.064317          0           0   \n",
       "10865   22293  tt0060666    0.035919      19000           0   \n",
       "\n",
       "                     original_title  \\\n",
       "0                    Jurassic World   \n",
       "1                Mad Max: Fury Road   \n",
       "2                         Insurgent   \n",
       "3      Star Wars: The Force Awakens   \n",
       "4                         Furious 7   \n",
       "...                             ...   \n",
       "10861            The Endless Summer   \n",
       "10862                    Grand Prix   \n",
       "10863           Beregis Avtomobilya   \n",
       "10864        What's Up, Tiger Lily?   \n",
       "10865      Manos: The Hands of Fate   \n",
       "\n",
       "                                                    cast            director  \\\n",
       "0      Chris Pratt|Bryce Dallas Howard|Irrfan Khan|Vi...     Colin Trevorrow   \n",
       "1      Tom Hardy|Charlize Theron|Hugh Keays-Byrne|Nic...       George Miller   \n",
       "2      Shailene Woodley|Theo James|Kate Winslet|Ansel...    Robert Schwentke   \n",
       "3      Harrison Ford|Mark Hamill|Carrie Fisher|Adam D...         J.J. Abrams   \n",
       "4      Vin Diesel|Paul Walker|Jason Statham|Michelle ...           James Wan   \n",
       "...                                                  ...                 ...   \n",
       "10861  Michael Hynson|Robert August|Lord 'Tally Ho' B...         Bruce Brown   \n",
       "10862  James Garner|Eva Marie Saint|Yves Montand|Tosh...  John Frankenheimer   \n",
       "10863  Innokentiy Smoktunovskiy|Oleg Efremov|Georgi Z...      Eldar Ryazanov   \n",
       "10864  Tatsuya Mihashi|Akiko Wakabayashi|Mie Hama|Joh...         Woody Allen   \n",
       "10865  Harold P. Warren|Tom Neyman|John Reynolds|Dian...    Harold P. Warren   \n",
       "\n",
       "                                                 tagline  \\\n",
       "0                                      The park is open.   \n",
       "1                                     What a Lovely Day.   \n",
       "2                             One Choice Can Destroy You   \n",
       "3                          Every generation has a story.   \n",
       "4                                    Vengeance Hits Home   \n",
       "...                                                  ...   \n",
       "10861                                        unavailable   \n",
       "10862  Cinerama sweeps YOU into a drama of speed and ...   \n",
       "10863                                        unavailable   \n",
       "10864                          WOODY ALLEN STRIKES BACK!   \n",
       "10865       It's Shocking! It's Beyond Your Imagination!   \n",
       "\n",
       "                                                keywords  \\\n",
       "0      monster|dna|tyrannosaurus rex|velociraptor|island   \n",
       "1       future|chase|post-apocalyptic|dystopia|australia   \n",
       "2      based on novel|revolution|dystopia|sequel|dyst...   \n",
       "3                  android|spaceship|jedi|space opera|3d   \n",
       "4                    car race|speed|revenge|suspense|car   \n",
       "...                                                  ...   \n",
       "10861                           surfer|surfboard|surfing   \n",
       "10862                          car race|racing|formula 1   \n",
       "10863                           car|trolley|stealing car   \n",
       "10864                                              spoof   \n",
       "10865                fire|gun|drive|sacrifice|flashlight   \n",
       "\n",
       "                                                overview  runtime  \\\n",
       "0      Twenty-two years after the events of Jurassic ...      124   \n",
       "1      An apocalyptic story set in the furthest reach...      120   \n",
       "2      Beatrice Prior must confront her inner demons ...      119   \n",
       "3      Thirty years after defeating the Galactic Empi...      136   \n",
       "4      Deckard Shaw seeks revenge against Dominic Tor...      137   \n",
       "...                                                  ...      ...   \n",
       "10861  The Endless Summer, by Bruce Brown, is one of ...       95   \n",
       "10862  Grand Prix driver Pete Aron is fired by his te...      176   \n",
       "10863  An insurance agent who moonlights as a carthie...       94   \n",
       "10864  In comic Woody Allen's film debut, he took the...       80   \n",
       "10865  A family gets lost on the road and stumbles up...       74   \n",
       "\n",
       "                                    production_companies release_date  \\\n",
       "0      Universal Studios|Amblin Entertainment|Legenda...   2015-06-09   \n",
       "1      Village Roadshow Pictures|Kennedy Miller Produ...   2015-05-13   \n",
       "2      Summit Entertainment|Mandeville Films|Red Wago...   2015-03-18   \n",
       "3              Lucasfilm|Truenorth Productions|Bad Robot   2015-12-15   \n",
       "4      Universal Pictures|Original Film|Media Rights ...   2015-04-01   \n",
       "...                                                  ...          ...   \n",
       "10861                                  Bruce Brown Films   2066-06-15   \n",
       "10862  Cherokee Productions|Joel Productions|Douglas ...   2066-12-21   \n",
       "10863                                            Mosfilm   2066-01-01   \n",
       "10864                            Benedict Pictures Corp.   2066-11-02   \n",
       "10865                                          Norm-Iris   2066-11-15   \n",
       "\n",
       "       vote_count  vote_average  release_year    budget_adj   revenue_adj  \\\n",
       "0            5562           6.5          2015  1.379999e+08  1.392446e+09   \n",
       "1            6185           7.1          2015  1.379999e+08  3.481613e+08   \n",
       "2            2480           6.3          2015  1.012000e+08  2.716190e+08   \n",
       "3            5292           7.5          2015  1.839999e+08  1.902723e+09   \n",
       "4            2947           7.3          2015  1.747999e+08  1.385749e+09   \n",
       "...           ...           ...           ...           ...           ...   \n",
       "10861          11           7.4          1966  0.000000e+00  0.000000e+00   \n",
       "10862          20           5.7          1966  0.000000e+00  0.000000e+00   \n",
       "10863          11           6.5          1966  0.000000e+00  0.000000e+00   \n",
       "10864          22           5.4          1966  0.000000e+00  0.000000e+00   \n",
       "10865          15           1.5          1966  1.276423e+05  0.000000e+00   \n",
       "\n",
       "                                          list_genere  \n",
       "0      [Action, Adventure, Science Fiction, Thriller]  \n",
       "1      [Action, Adventure, Science Fiction, Thriller]  \n",
       "2              [Adventure, Science Fiction, Thriller]  \n",
       "3       [Action, Adventure, Science Fiction, Fantasy]  \n",
       "4                           [Action, Crime, Thriller]  \n",
       "...                                               ...  \n",
       "10861                                   [Documentary]  \n",
       "10862                      [Action, Adventure, Drama]  \n",
       "10863                               [Mystery, Comedy]  \n",
       "10864                                [Action, Comedy]  \n",
       "10865                                        [Horror]  \n",
       "\n",
       "[10865 rows x 20 columns]"
      ]
     },
     "execution_count": 50,
     "metadata": {},
     "output_type": "execute_result"
    }
   ],
   "source": [
    "movies_data"
   ]
  },
  {
   "cell_type": "markdown",
   "metadata": {},
   "source": [
    "#### Create new dataframe   to store data about budget, revenue and generes in order to study the relationship between \n",
    "\n",
    "#### revenue and budget with different generes\n",
    " "
   ]
  },
  {
   "cell_type": "code",
   "execution_count": 51,
   "metadata": {},
   "outputs": [
    {
     "data": {
      "text/plain": [
       "{'Action',\n",
       " 'Adventure',\n",
       " 'Animation',\n",
       " 'Comedy',\n",
       " 'Crime',\n",
       " 'Documentary',\n",
       " 'Drama',\n",
       " 'Family',\n",
       " 'Fantasy',\n",
       " 'Foreign',\n",
       " 'History',\n",
       " 'Horror',\n",
       " 'Music',\n",
       " 'Mystery',\n",
       " 'Romance',\n",
       " 'Science Fiction',\n",
       " 'TV Movie',\n",
       " 'Thriller',\n",
       " 'War',\n",
       " 'Western',\n",
       " 'unavailable'}"
      ]
     },
     "execution_count": 51,
     "metadata": {},
     "output_type": "execute_result"
    }
   ],
   "source": [
    "unique_generes"
   ]
  },
  {
   "cell_type": "code",
   "execution_count": 52,
   "metadata": {},
   "outputs": [
    {
     "name": "stdout",
     "output_type": "stream",
     "text": [
      "21\n",
      "[{'popularity': 0.5926073422093329, 'revenue': 37526242.07223833, 'budget': 13297915.618244134, 'genere': 'Comedy'}, {'popularity': 0.786668393988627, 'revenue': 72433176.37367994, 'budget': 23359337.4207961, 'genere': 'Family'}, {'popularity': 0.4653566304215027, 'revenue': 16822808.624312766, 'budget': 6226529.210751374, 'genere': 'Horror'}, {'popularity': 0.6900121320987652, 'revenue': 40217566.6617284, 'budget': 16119270.062962962, 'genere': 'Mystery'}, {'popularity': 0.7415629927760577, 'revenue': 41728417.543859646, 'budget': 17207693.769177847, 'genere': 'Thriller'}, {'popularity': 0.48732118382352935, 'revenue': 28571768.69117647, 'budget': 9438627.549019609, 'genere': 'Music'}, {'popularity': 0.5920820490654205, 'revenue': 35691972.3271028, 'budget': 12531271.847546728, 'genere': 'Romance'}, {'popularity': 0.5906154787878787, 'revenue': 28568709.284848485, 'budget': 18974107.975757577, 'genere': 'Western'}, {'popularity': 0.7276831481481482, 'revenue': 47605183.3, 'budget': 20891886.103703704, 'genere': 'War'}, {'popularity': 0.9928397063318778, 'revenue': 96313657.08187772, 'budget': 32612585.348253276, 'genere': 'Fantasy'}, {'popularity': 0.18143162499999996, 'revenue': 2041106.9942307693, 'budget': 577149.1480769231, 'genere': 'Documentary'}, {'popularity': 1.0015476501220504, 'revenue': 70140558.03417413, 'budget': 24972680.524003256, 'genere': 'Science Fiction'}, {'popularity': 1.1542590441876273, 'revenue': 113137861.06934059, 'budget': 37543694.53093134, 'genere': 'Adventure'}, {'popularity': 0.9262744358221475, 'revenue': 72794732.00251678, 'budget': 27727820.331375837, 'genere': 'Action'}, {'popularity': 0.19149632446808507, 'revenue': 1520459.835106383, 'budget': 1451434.925531915, 'genere': 'Foreign'}, {'popularity': 0.7449304453471195, 'revenue': 42368661.64549483, 'budget': 17663801.124815363, 'genere': 'Crime'}, {'popularity': 0.8521816523605149, 'revenue': 75256062.22317597, 'budget': 23159781.60658083, 'genere': 'Animation'}, {'popularity': 0.5759359431137724, 'revenue': 32011793.215568863, 'budget': 18594919.30239521, 'genere': 'History'}, {'popularity': 0.16796621739130435, 'revenue': 0.0, 'budget': 217.3913043478261, 'genere': 'unavailable'}, {'popularity': 0.2708957604790419, 'revenue': 251497.00598802394, 'budget': 267664.67065868265, 'genere': 'TV Movie'}, {'popularity': 0.5914953182773109, 'revenue': 29232255.725840338, 'budget': 11880717.773529412, 'genere': 'Drama'}]\n"
     ]
    }
   ],
   "source": [
    "#create list of dictionary to save each genere with its average popularity, average revenue , average budget\n",
    "stat_about_themes=[]\n",
    "for item in unique_generes:\n",
    "    #print(movies_data['list_genere'][2])\n",
    "    specific_item=item\n",
    "    condition =movies_data['list_genere'].apply(lambda x: specific_item in x)\n",
    "    filtered_movies=movies_data[condition]\n",
    "    average_popularity=filtered_movies['popularity'].mean()\n",
    "    average_revenue=filtered_movies['revenue'].mean()\n",
    "    average_budget=filtered_movies['budget'].mean()\n",
    "    stat_about_themes.append({\"popularity\":average_popularity, \"revenue\":average_revenue, \"budget\":average_budget,\"genere\":item})\n",
    "    #print(average_popularity)\n",
    "    #filtered_movies=movies_data[condition]\n",
    "    # average_popularity=movies_data[condition]['popularity'].mean()\n",
    "    #print(average_popularity)\n",
    "    #average_budget = movies_data[condition]['budget'].mean()\n",
    "    #average_revenue = movies_data[condition]['revenue'].mean()\n",
    "    #stat_about_themes['theme']={'popularity':average_popularity,'budget':average_budget,'revenue':average_revenue}\n",
    "print(len(stat_about_themes))\n",
    "print((stat_about_themes))    "
   ]
  },
  {
   "cell_type": "code",
   "execution_count": 53,
   "metadata": {},
   "outputs": [],
   "source": [
    "# convert stat_about_themes list of dictionaries to genere stats dataframe\n",
    "genere_stats= pd.DataFrame(stat_about_themes)"
   ]
  },
  {
   "cell_type": "code",
   "execution_count": 54,
   "metadata": {
    "scrolled": false
   },
   "outputs": [
    {
     "data": {
      "text/html": [
       "<div>\n",
       "<style scoped>\n",
       "    .dataframe tbody tr th:only-of-type {\n",
       "        vertical-align: middle;\n",
       "    }\n",
       "\n",
       "    .dataframe tbody tr th {\n",
       "        vertical-align: top;\n",
       "    }\n",
       "\n",
       "    .dataframe thead th {\n",
       "        text-align: right;\n",
       "    }\n",
       "</style>\n",
       "<table border=\"1\" class=\"dataframe\">\n",
       "  <thead>\n",
       "    <tr style=\"text-align: right;\">\n",
       "      <th></th>\n",
       "      <th>popularity</th>\n",
       "      <th>revenue</th>\n",
       "      <th>budget</th>\n",
       "      <th>genere</th>\n",
       "    </tr>\n",
       "  </thead>\n",
       "  <tbody>\n",
       "    <tr>\n",
       "      <th>0</th>\n",
       "      <td>0.592607</td>\n",
       "      <td>3.752624e+07</td>\n",
       "      <td>1.329792e+07</td>\n",
       "      <td>Comedy</td>\n",
       "    </tr>\n",
       "    <tr>\n",
       "      <th>1</th>\n",
       "      <td>0.786668</td>\n",
       "      <td>7.243318e+07</td>\n",
       "      <td>2.335934e+07</td>\n",
       "      <td>Family</td>\n",
       "    </tr>\n",
       "    <tr>\n",
       "      <th>2</th>\n",
       "      <td>0.465357</td>\n",
       "      <td>1.682281e+07</td>\n",
       "      <td>6.226529e+06</td>\n",
       "      <td>Horror</td>\n",
       "    </tr>\n",
       "    <tr>\n",
       "      <th>3</th>\n",
       "      <td>0.690012</td>\n",
       "      <td>4.021757e+07</td>\n",
       "      <td>1.611927e+07</td>\n",
       "      <td>Mystery</td>\n",
       "    </tr>\n",
       "    <tr>\n",
       "      <th>4</th>\n",
       "      <td>0.741563</td>\n",
       "      <td>4.172842e+07</td>\n",
       "      <td>1.720769e+07</td>\n",
       "      <td>Thriller</td>\n",
       "    </tr>\n",
       "    <tr>\n",
       "      <th>5</th>\n",
       "      <td>0.487321</td>\n",
       "      <td>2.857177e+07</td>\n",
       "      <td>9.438628e+06</td>\n",
       "      <td>Music</td>\n",
       "    </tr>\n",
       "    <tr>\n",
       "      <th>6</th>\n",
       "      <td>0.592082</td>\n",
       "      <td>3.569197e+07</td>\n",
       "      <td>1.253127e+07</td>\n",
       "      <td>Romance</td>\n",
       "    </tr>\n",
       "    <tr>\n",
       "      <th>7</th>\n",
       "      <td>0.590615</td>\n",
       "      <td>2.856871e+07</td>\n",
       "      <td>1.897411e+07</td>\n",
       "      <td>Western</td>\n",
       "    </tr>\n",
       "    <tr>\n",
       "      <th>8</th>\n",
       "      <td>0.727683</td>\n",
       "      <td>4.760518e+07</td>\n",
       "      <td>2.089189e+07</td>\n",
       "      <td>War</td>\n",
       "    </tr>\n",
       "    <tr>\n",
       "      <th>9</th>\n",
       "      <td>0.992840</td>\n",
       "      <td>9.631366e+07</td>\n",
       "      <td>3.261259e+07</td>\n",
       "      <td>Fantasy</td>\n",
       "    </tr>\n",
       "    <tr>\n",
       "      <th>10</th>\n",
       "      <td>0.181432</td>\n",
       "      <td>2.041107e+06</td>\n",
       "      <td>5.771491e+05</td>\n",
       "      <td>Documentary</td>\n",
       "    </tr>\n",
       "    <tr>\n",
       "      <th>11</th>\n",
       "      <td>1.001548</td>\n",
       "      <td>7.014056e+07</td>\n",
       "      <td>2.497268e+07</td>\n",
       "      <td>Science Fiction</td>\n",
       "    </tr>\n",
       "    <tr>\n",
       "      <th>12</th>\n",
       "      <td>1.154259</td>\n",
       "      <td>1.131379e+08</td>\n",
       "      <td>3.754369e+07</td>\n",
       "      <td>Adventure</td>\n",
       "    </tr>\n",
       "    <tr>\n",
       "      <th>13</th>\n",
       "      <td>0.926274</td>\n",
       "      <td>7.279473e+07</td>\n",
       "      <td>2.772782e+07</td>\n",
       "      <td>Action</td>\n",
       "    </tr>\n",
       "    <tr>\n",
       "      <th>14</th>\n",
       "      <td>0.191496</td>\n",
       "      <td>1.520460e+06</td>\n",
       "      <td>1.451435e+06</td>\n",
       "      <td>Foreign</td>\n",
       "    </tr>\n",
       "    <tr>\n",
       "      <th>15</th>\n",
       "      <td>0.744930</td>\n",
       "      <td>4.236866e+07</td>\n",
       "      <td>1.766380e+07</td>\n",
       "      <td>Crime</td>\n",
       "    </tr>\n",
       "    <tr>\n",
       "      <th>16</th>\n",
       "      <td>0.852182</td>\n",
       "      <td>7.525606e+07</td>\n",
       "      <td>2.315978e+07</td>\n",
       "      <td>Animation</td>\n",
       "    </tr>\n",
       "    <tr>\n",
       "      <th>17</th>\n",
       "      <td>0.575936</td>\n",
       "      <td>3.201179e+07</td>\n",
       "      <td>1.859492e+07</td>\n",
       "      <td>History</td>\n",
       "    </tr>\n",
       "    <tr>\n",
       "      <th>18</th>\n",
       "      <td>0.167966</td>\n",
       "      <td>0.000000e+00</td>\n",
       "      <td>2.173913e+02</td>\n",
       "      <td>unavailable</td>\n",
       "    </tr>\n",
       "    <tr>\n",
       "      <th>19</th>\n",
       "      <td>0.270896</td>\n",
       "      <td>2.514970e+05</td>\n",
       "      <td>2.676647e+05</td>\n",
       "      <td>TV Movie</td>\n",
       "    </tr>\n",
       "    <tr>\n",
       "      <th>20</th>\n",
       "      <td>0.591495</td>\n",
       "      <td>2.923226e+07</td>\n",
       "      <td>1.188072e+07</td>\n",
       "      <td>Drama</td>\n",
       "    </tr>\n",
       "  </tbody>\n",
       "</table>\n",
       "</div>"
      ],
      "text/plain": [
       "    popularity       revenue        budget           genere\n",
       "0     0.592607  3.752624e+07  1.329792e+07           Comedy\n",
       "1     0.786668  7.243318e+07  2.335934e+07           Family\n",
       "2     0.465357  1.682281e+07  6.226529e+06           Horror\n",
       "3     0.690012  4.021757e+07  1.611927e+07          Mystery\n",
       "4     0.741563  4.172842e+07  1.720769e+07         Thriller\n",
       "5     0.487321  2.857177e+07  9.438628e+06            Music\n",
       "6     0.592082  3.569197e+07  1.253127e+07          Romance\n",
       "7     0.590615  2.856871e+07  1.897411e+07          Western\n",
       "8     0.727683  4.760518e+07  2.089189e+07              War\n",
       "9     0.992840  9.631366e+07  3.261259e+07          Fantasy\n",
       "10    0.181432  2.041107e+06  5.771491e+05      Documentary\n",
       "11    1.001548  7.014056e+07  2.497268e+07  Science Fiction\n",
       "12    1.154259  1.131379e+08  3.754369e+07        Adventure\n",
       "13    0.926274  7.279473e+07  2.772782e+07           Action\n",
       "14    0.191496  1.520460e+06  1.451435e+06          Foreign\n",
       "15    0.744930  4.236866e+07  1.766380e+07            Crime\n",
       "16    0.852182  7.525606e+07  2.315978e+07        Animation\n",
       "17    0.575936  3.201179e+07  1.859492e+07          History\n",
       "18    0.167966  0.000000e+00  2.173913e+02      unavailable\n",
       "19    0.270896  2.514970e+05  2.676647e+05         TV Movie\n",
       "20    0.591495  2.923226e+07  1.188072e+07            Drama"
      ]
     },
     "execution_count": 54,
     "metadata": {},
     "output_type": "execute_result"
    }
   ],
   "source": [
    "genere_stats"
   ]
  },
  {
   "cell_type": "markdown",
   "metadata": {},
   "source": [
    "#### The genere_stats dtaframe shows that  Action movies has :\n",
    "1) Average budget of 2.772782e+07\n",
    "2) Average revenue of 7.279473e+07 \n",
    "3) Average popularity score of  0.926274 \n",
    "\n",
    "#### Each genere has the same data"
   ]
  },
  {
   "cell_type": "code",
   "execution_count": 55,
   "metadata": {
    "scrolled": true
   },
   "outputs": [
    {
     "data": {
      "text/html": [
       "<div>\n",
       "<style scoped>\n",
       "    .dataframe tbody tr th:only-of-type {\n",
       "        vertical-align: middle;\n",
       "    }\n",
       "\n",
       "    .dataframe tbody tr th {\n",
       "        vertical-align: top;\n",
       "    }\n",
       "\n",
       "    .dataframe thead th {\n",
       "        text-align: right;\n",
       "    }\n",
       "</style>\n",
       "<table border=\"1\" class=\"dataframe\">\n",
       "  <thead>\n",
       "    <tr style=\"text-align: right;\">\n",
       "      <th></th>\n",
       "      <th>popularity</th>\n",
       "      <th>revenue</th>\n",
       "      <th>budget</th>\n",
       "    </tr>\n",
       "  </thead>\n",
       "  <tbody>\n",
       "    <tr>\n",
       "      <th>count</th>\n",
       "      <td>21.000000</td>\n",
       "      <td>2.100000e+01</td>\n",
       "      <td>2.100000e+01</td>\n",
       "    </tr>\n",
       "    <tr>\n",
       "      <th>mean</th>\n",
       "      <td>0.634532</td>\n",
       "      <td>4.210640e+07</td>\n",
       "      <td>1.592853e+07</td>\n",
       "    </tr>\n",
       "    <tr>\n",
       "      <th>std</th>\n",
       "      <td>0.277199</td>\n",
       "      <td>3.152533e+07</td>\n",
       "      <td>1.057148e+07</td>\n",
       "    </tr>\n",
       "    <tr>\n",
       "      <th>min</th>\n",
       "      <td>0.167966</td>\n",
       "      <td>0.000000e+00</td>\n",
       "      <td>2.173913e+02</td>\n",
       "    </tr>\n",
       "    <tr>\n",
       "      <th>25%</th>\n",
       "      <td>0.487321</td>\n",
       "      <td>2.856871e+07</td>\n",
       "      <td>9.438628e+06</td>\n",
       "    </tr>\n",
       "    <tr>\n",
       "      <th>50%</th>\n",
       "      <td>0.592607</td>\n",
       "      <td>3.752624e+07</td>\n",
       "      <td>1.720769e+07</td>\n",
       "    </tr>\n",
       "    <tr>\n",
       "      <th>75%</th>\n",
       "      <td>0.786668</td>\n",
       "      <td>7.014056e+07</td>\n",
       "      <td>2.315978e+07</td>\n",
       "    </tr>\n",
       "    <tr>\n",
       "      <th>max</th>\n",
       "      <td>1.154259</td>\n",
       "      <td>1.131379e+08</td>\n",
       "      <td>3.754369e+07</td>\n",
       "    </tr>\n",
       "  </tbody>\n",
       "</table>\n",
       "</div>"
      ],
      "text/plain": [
       "       popularity       revenue        budget\n",
       "count   21.000000  2.100000e+01  2.100000e+01\n",
       "mean     0.634532  4.210640e+07  1.592853e+07\n",
       "std      0.277199  3.152533e+07  1.057148e+07\n",
       "min      0.167966  0.000000e+00  2.173913e+02\n",
       "25%      0.487321  2.856871e+07  9.438628e+06\n",
       "50%      0.592607  3.752624e+07  1.720769e+07\n",
       "75%      0.786668  7.014056e+07  2.315978e+07\n",
       "max      1.154259  1.131379e+08  3.754369e+07"
      ]
     },
     "execution_count": 55,
     "metadata": {},
     "output_type": "execute_result"
    }
   ],
   "source": [
    "genere_stats.describe()"
   ]
  },
  {
   "cell_type": "code",
   "execution_count": 56,
   "metadata": {},
   "outputs": [],
   "source": [
    "def print_max_genere(genere):\n",
    "    print (genere_stats[genere_stats[genere]==genere_stats[genere].max()])\n",
    "def print_min_genere( genere):\n",
    "    print (genere_stats[genere_stats[genere]==genere_stats[genere].min()] )"
   ]
  },
  {
   "cell_type": "code",
   "execution_count": 57,
   "metadata": {},
   "outputs": [
    {
     "name": "stdout",
     "output_type": "stream",
     "text": [
      "    popularity       revenue        budget     genere\n",
      "12    1.154259  1.131379e+08  3.754369e+07  Adventure\n",
      "\n",
      "    popularity       revenue        budget     genere\n",
      "12    1.154259  1.131379e+08  3.754369e+07  Adventure\n",
      "\n",
      "    popularity       revenue        budget     genere\n",
      "12    1.154259  1.131379e+08  3.754369e+07  Adventure\n"
     ]
    }
   ],
   "source": [
    "# print the theme with the max popularity, budget, revenue\n",
    "print_max_genere('popularity')\n",
    "print()\n",
    "print_max_genere('budget')\n",
    "print()\n",
    "print_max_genere('revenue')"
   ]
  },
  {
   "cell_type": "code",
   "execution_count": 58,
   "metadata": {
    "scrolled": true
   },
   "outputs": [
    {
     "name": "stdout",
     "output_type": "stream",
     "text": [
      "    popularity       revenue         budget       genere\n",
      "10    0.181432  2.041107e+06  577149.148077  Documentary\n",
      "    popularity        revenue         budget    genere\n",
      "19    0.270896  251497.005988  267664.670659  TV Movie\n",
      "    popularity        revenue         budget    genere\n",
      "19    0.270896  251497.005988  267664.670659  TV Movie\n"
     ]
    }
   ],
   "source": [
    "# print the theme with the min popularity, budget, revenue\n",
    "# execlude unavailable genere from the dataframe\n",
    "genere_stats=genere_stats[genere_stats['genere']!=\"unavailable\"]\n",
    "print_min_genere('popularity')\n",
    "print_min_genere('budget')\n",
    "print_min_genere('revenue')"
   ]
  },
  {
   "cell_type": "markdown",
   "metadata": {},
   "source": [
    "####  From the analysis above, adventure movies has the maximum popularity, revenue and budget\n",
    "\n",
    "#### The Documentary movies has the worst popularity\n",
    "\n",
    "#### The TV Movie has the least budget and the least revenue"
   ]
  },
  {
   "cell_type": "code",
   "execution_count": 59,
   "metadata": {
    "scrolled": false
   },
   "outputs": [
    {
     "data": {
      "image/png": "[encoded data removed]",
      "text/plain": [
       "<Figure size 1200x600 with 1 Axes>"
      ]
     },
     "metadata": {},
     "output_type": "display_data"
    }
   ],
   "source": [
    "#temp=genere_stats.set_index('genere')\n",
    "plt.figure(figsize=(12, 6))  # Adjust the figure size\n",
    "plt.plot(genere_stats['genere'],genere_stats['revenue'])\n",
    "\n",
    "# Adding labels and title\n",
    "plt.xticks(rotation=45, ha='right')\n",
    "plt.xlabel('genere')\n",
    "plt.ylabel('Revenue ($))')\n",
    "plt.title('Genre VS Revenue')\n",
    "\n",
    "# Displaying the plot\n",
    "plt.show()"
   ]
  },
  {
   "cell_type": "markdown",
   "metadata": {},
   "source": [
    "#### The visulaization above confirm the previous finding and shows the following :\n",
    "1) The adventure movies have the best revenue while TV movies has the worst revenue .\n",
    "2) The science fiction, action and animation movies have very close revenue\n",
    "3) Foreign movies have the second worst revenue\n",
    "4) Fantasy movies have the second best revenue"
   ]
  },
  {
   "cell_type": "code",
   "execution_count": 60,
   "metadata": {},
   "outputs": [
    {
     "data": {
      "image/png": "[encoded data removed]",
      "text/plain": [
       "<Figure size 1200x600 with 1 Axes>"
      ]
     },
     "metadata": {},
     "output_type": "display_data"
    }
   ],
   "source": [
    "\n",
    "#temp=genere_stats.set_index('genere')\n",
    "plt.figure(figsize=(12, 6))  # Adjust the figure size\n",
    "plt.plot(genere_stats['genere'],genere_stats['budget'])\n",
    "\n",
    "# Adding labels and title\n",
    "plt.xticks(rotation=45, ha='right')\n",
    "plt.xlabel('genere')\n",
    "plt.ylabel('Budget ($))')\n",
    "plt.title('Genre VS budget')\n",
    "\n",
    "# Displaying the plot\n",
    "plt.show()"
   ]
  },
  {
   "cell_type": "markdown",
   "metadata": {},
   "source": [
    "#### The visulaization above confirm the previous findings and shows the following :\n",
    "1) that the adventure movies have the biggest budget while TV movies has the least budget .\n",
    "2) The science fiction, action and animation movies have very close budget too\n",
    "3) Foreign movies have the second least budget\n",
    "4) Fantasy movies have the second biggest budget"
   ]
  },
  {
   "cell_type": "code",
   "execution_count": 61,
   "metadata": {
    "scrolled": false
   },
   "outputs": [
    {
     "data": {
      "image/png": "[encoded data removed]",
      "text/plain": [
       "<Figure size 1200x600 with 1 Axes>"
      ]
     },
     "metadata": {},
     "output_type": "display_data"
    }
   ],
   "source": [
    "\n",
    "#temp=genere_stats.set_index('genere')\n",
    "plt.figure(figsize=(12, 6))  # Adjust the figure size\n",
    "plt.plot(genere_stats['genere'],genere_stats['popularity'])\n",
    "\n",
    "# Adding labels and title\n",
    "plt.xticks(rotation=45, ha='right')\n",
    "plt.xlabel('Genere')\n",
    "plt.ylabel('Popularity score')\n",
    "plt.title('Genre VS budget')\n",
    "\n",
    "# Displaying the plot\n",
    "plt.show()"
   ]
  },
  {
   "cell_type": "markdown",
   "metadata": {},
   "source": [
    "#### The visulaization above confirm the previous findings and shows the following :\n",
    "1) The adventure movies are the most popular\n",
    "2) The science fiction, action and fantasy movies are ranking the second in term of popularity\n",
    "3) Documentaries and Foreign movies are the least popular \n"
   ]
  },
  {
   "cell_type": "markdown",
   "metadata": {},
   "source": [
    "<a id='conclusions'></a>\n",
    "## Conclusions\n"
   ]
  },
  {
   "cell_type": "markdown",
   "metadata": {},
   "source": [
    "### Question 1 :  Does the movie budget affect its revenue and popularity ?\n",
    "\n",
    "#### The Analysis shows that there is a strong positive  linear relationship between budget and revenue and  a moderate   linear relationship  between budget and popularity.\n",
    "\n",
    "1) The Pearson correlation coefficient  was 0.73 between budget and revenue. This means that when the budget increases, the  revenue tends to also increase in a linear fashion. The analysis also shows that on average the revenue is 2.7 more than the  budget (Revenue= 2.7 * budget). \n",
    "\n",
    "2) The peason correlation coofecient between budget and popularity is 0.54  this means that as one variable increases, the other variable tends to also increase, but the relationship is not as strong as it would be with a higher correlation coefficient.\n",
    "    \n",
    "### Question 2:  What Theme (Genere) of movies get the most revenue?\n",
    "\n",
    "#### Regrading the revenue, the previous analysis shows the following :\n",
    "1) The adventure movies have the best revenue while TV movies has the worst revenue.\n",
    "2) Fantasy movies have the second best revenue\n",
    "3) The science fiction, action and animation movies have very close revenue.\n",
    "4) Foreign movies have the second worst revenue\n",
    "\n",
    "#### Regarding the budget, the previous analysis shows the following :\n",
    "1) the adventure movies have the biggest budget while TV movies has the least budget .\n",
    "2) Fantasy movies have the second biggest budget\n",
    "3) The science fiction, action and animation movies have very close budget too\n",
    "4) Foreign movies have the second least budget\n",
    "\n",
    "#### The analysis before shows similarity between the relationship between the movie theme and budget and the movie theme and\n",
    "\n",
    "#### revenue this might be due to the strong positive  linear relationship between themx\n",
    "\n",
    "###  Limitation  :\n",
    "1) Not enough statistical tests were implemented\n",
    "2) Vote average  and vote count were not analysed enough. I believe that there are interesting findinngs between vote average , popularity, budget and revenue as vote average usually shows how good the movie is.\n",
    "3) Budget_adj and revenue_Adj columns were ignored as if they are not exist.\n",
    "4) Genere analysis may not be accurate because each movie is categorised to multiple generes but genres were analysed separatey.\n",
    "5) I did not answer many questions like are adventure movies most popular and have most  revenue because people love adventure movies or because on average the budget invested in advanture movies are the biggest. Do more analysis on  vote average and more statistcal analysis might answer these questions\n",
    "6) it is better if the research question 2  was What is the best theme (Genere) of movies to invest in instead of What Theme (Genere) of movies get the most revenue?\n",
    "\n",
    "### Insigths :\n",
    "\n",
    "1) Investing a budget in  movies might be very rewading\n",
    "2) I thought I would be able to answer what the best movie theme to invest in is, but unfortunately, I haven't.\n"
   ]
  },
  {
   "cell_type": "code",
   "execution_count": 62,
   "metadata": {
    "tags": []
   },
   "outputs": [
    {
     "name": "stdout",
     "output_type": "stream",
     "text": [
      "[NbConvertApp] Converting notebook Investigate_a_Dataset.ipynb to html\n",
      "[NbConvertApp] WARNING | Alternative text is missing on 7 image(s).\n",
      "[NbConvertApp] Writing 872044 bytes to Investigate_a_Dataset.html\n"
     ]
    }
   ],
   "source": [
    "# Running this cell will execute a bash command to convert this notebook to an .html file\n",
    "!python -m nbconvert --to html Investigate_a_Dataset.ipynb"
   ]
  }
 ],
 "metadata": {
  "kernelspec": {
   "display_name": "Python 3 (ipykernel)",
   "language": "python",
   "name": "python3"
  },
  "language_info": {
   "codemirror_mode": {
    "name": "ipython",
    "version": 3
   },
   "file_extension": ".py",
   "mimetype": "text/x-python",
   "name": "python",
   "nbconvert_exporter": "python",
   "pygments_lexer": "ipython3",
   "version": "3.10.13"
  }
 },
 "nbformat": 4,
 "nbformat_minor": 4
}
